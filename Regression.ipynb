{
 "cells": [
  {
   "cell_type": "code",
   "execution_count": 1,
   "metadata": {},
   "outputs": [],
   "source": [
    "import pandas as pd\n",
    "import numpy as np\n",
    "import seaborn as sns\n",
    "import matplotlib.pyplot as plt\n",
    "from sklearn.model_selection import train_test_split"
   ]
  },
  {
   "cell_type": "code",
   "execution_count": 2,
   "metadata": {},
   "outputs": [
    {
     "data": {
      "text/html": [
       "<div>\n",
       "<style scoped>\n",
       "    .dataframe tbody tr th:only-of-type {\n",
       "        vertical-align: middle;\n",
       "    }\n",
       "\n",
       "    .dataframe tbody tr th {\n",
       "        vertical-align: top;\n",
       "    }\n",
       "\n",
       "    .dataframe thead th {\n",
       "        text-align: right;\n",
       "    }\n",
       "</style>\n",
       "<table border=\"1\" class=\"dataframe\">\n",
       "  <thead>\n",
       "    <tr style=\"text-align: right;\">\n",
       "      <th></th>\n",
       "      <th>country</th>\n",
       "      <th>population</th>\n",
       "      <th>happiness</th>\n",
       "      <th>bad_conditions</th>\n",
       "      <th>culture</th>\n",
       "      <th>health_estimate</th>\n",
       "      <th>commute</th>\n",
       "      <th>education_underachievements</th>\n",
       "      <th>minimum_wage</th>\n",
       "      <th>unmet_medical_needs</th>\n",
       "    </tr>\n",
       "  </thead>\n",
       "  <tbody>\n",
       "    <tr>\n",
       "      <th>0</th>\n",
       "      <td>Austria</td>\n",
       "      <td>8858775</td>\n",
       "      <td>39.7</td>\n",
       "      <td>10.4</td>\n",
       "      <td>18.40</td>\n",
       "      <td>71.4</td>\n",
       "      <td>39.6</td>\n",
       "      <td>21.69</td>\n",
       "      <td>1500.00</td>\n",
       "      <td>0.1</td>\n",
       "    </tr>\n",
       "    <tr>\n",
       "      <th>1</th>\n",
       "      <td>Belgium</td>\n",
       "      <td>11467923</td>\n",
       "      <td>21.2</td>\n",
       "      <td>18.0</td>\n",
       "      <td>20.55</td>\n",
       "      <td>74.5</td>\n",
       "      <td>48.2</td>\n",
       "      <td>19.80</td>\n",
       "      <td>1501.82</td>\n",
       "      <td>1.8</td>\n",
       "    </tr>\n",
       "    <tr>\n",
       "      <th>2</th>\n",
       "      <td>Bulgaria</td>\n",
       "      <td>7000039</td>\n",
       "      <td>9.5</td>\n",
       "      <td>13.0</td>\n",
       "      <td>6.68</td>\n",
       "      <td>66.4</td>\n",
       "      <td>33.4</td>\n",
       "      <td>40.46</td>\n",
       "      <td>184.07</td>\n",
       "      <td>1.9</td>\n",
       "    </tr>\n",
       "    <tr>\n",
       "      <th>3</th>\n",
       "      <td>Croatia</td>\n",
       "      <td>4076246</td>\n",
       "      <td>16.5</td>\n",
       "      <td>11.2</td>\n",
       "      <td>9.02</td>\n",
       "      <td>60.7</td>\n",
       "      <td>37.9</td>\n",
       "      <td>25.02</td>\n",
       "      <td>395.61</td>\n",
       "      <td>1.4</td>\n",
       "    </tr>\n",
       "    <tr>\n",
       "      <th>4</th>\n",
       "      <td>Cyprus</td>\n",
       "      <td>875898</td>\n",
       "      <td>22.4</td>\n",
       "      <td>30.2</td>\n",
       "      <td>8.85</td>\n",
       "      <td>76.3</td>\n",
       "      <td>22.4</td>\n",
       "      <td>39.97</td>\n",
       "      <td>870.00</td>\n",
       "      <td>1.4</td>\n",
       "    </tr>\n",
       "  </tbody>\n",
       "</table>\n",
       "</div>"
      ],
      "text/plain": [
       "    country  population  happiness  bad_conditions  culture  health_estimate  \\\n",
       "0   Austria     8858775       39.7            10.4    18.40             71.4   \n",
       "1   Belgium    11467923       21.2            18.0    20.55             74.5   \n",
       "2  Bulgaria     7000039        9.5            13.0     6.68             66.4   \n",
       "3   Croatia     4076246       16.5            11.2     9.02             60.7   \n",
       "4    Cyprus      875898       22.4            30.2     8.85             76.3   \n",
       "\n",
       "   commute  education_underachievements  minimum_wage  unmet_medical_needs  \n",
       "0     39.6                        21.69       1500.00                  0.1  \n",
       "1     48.2                        19.80       1501.82                  1.8  \n",
       "2     33.4                        40.46        184.07                  1.9  \n",
       "3     37.9                        25.02        395.61                  1.4  \n",
       "4     22.4                        39.97        870.00                  1.4  "
      ]
     },
     "execution_count": 2,
     "metadata": {},
     "output_type": "execute_result"
    }
   ],
   "source": [
    "df = pd.read_excel('../data/main.xlsx', header=0)\n",
    "df.head()"
   ]
  },
  {
   "cell_type": "markdown",
   "metadata": {},
   "source": [
    "Na początku sprobujmy użyć tylko najbardziej skorelowanych cech. Zgodnie z przyjętą podczas analizy eksploracyjnej zasadą, cechą dla której będziemy robili predykcję, jest cecha ```happiness```."
   ]
  },
  {
   "cell_type": "code",
   "execution_count": 3,
   "metadata": {},
   "outputs": [
    {
     "data": {
      "text/plain": [
       "education_underachievements   -0.556358\n",
       "bad_conditions                -0.446700\n",
       "unmet_medical_needs           -0.253131\n",
       "population                    -0.090328\n",
       "commute                        0.360781\n",
       "health_estimate                0.489360\n",
       "culture                        0.547529\n",
       "minimum_wage                   0.616758\n",
       "happiness                      1.000000\n",
       "Name: happiness, dtype: float64"
      ]
     },
     "execution_count": 3,
     "metadata": {},
     "output_type": "execute_result"
    }
   ],
   "source": [
    "df.corr()['happiness'].sort_values()"
   ]
  },
  {
   "cell_type": "code",
   "execution_count": 4,
   "metadata": {},
   "outputs": [
    {
     "data": {
      "text/plain": [
       "['education_underachievements',\n",
       " 'bad_conditions',\n",
       " 'health_estimate',\n",
       " 'culture',\n",
       " 'minimum_wage']"
      ]
     },
     "execution_count": 4,
     "metadata": {},
     "output_type": "execute_result"
    }
   ],
   "source": [
    "features = ['education_underachievements', 'bad_conditions', 'health_estimate', 'culture', 'minimum_wage']\n",
    "# features = [f for f in df.columns if f not in ['country', 'happiness']]\n",
    "target_feature = ['happiness']\n",
    "features"
   ]
  },
  {
   "cell_type": "markdown",
   "metadata": {},
   "source": [
    "Funkcja dla podziału na zbiór treningowy i testowy:"
   ]
  },
  {
   "cell_type": "code",
   "execution_count": 5,
   "metadata": {},
   "outputs": [],
   "source": [
    "def split(dataframe):\n",
    "    X_train, X_test, y_train, y_test = train_test_split(dataframe[features], dataframe[target_feature],\n",
    "                                                    test_size=0.3, random_state=43)\n",
    "    y_train = y_train.iloc[:,0].ravel()\n",
    "    y_test = y_test.iloc[:,0].ravel()\n",
    "\n",
    "    plt.figure(figsize=(10,7), dpi=100)\n",
    "    for i, x_feature in enumerate(['education_underachievements', 'health_estimate', 'culture', 'minimum_wage']):\n",
    "        plt.subplot(2, 2, i+1)\n",
    "        plt.scatter(X_train[x_feature], y_train, label='Training Set')\n",
    "        plt.scatter(X_test[x_feature], y_test, color='red', label='Testing Set')\n",
    "        plt.xlabel(x_feature)\n",
    "        plt.ylabel('happiness')\n",
    "        plt.legend()\n",
    "    return X_train, X_test, y_train, y_test"
   ]
  },
  {
   "cell_type": "code",
   "execution_count": 6,
   "metadata": {},
   "outputs": [
    {
     "data": {
      "image/png": "[encoded data removed]",
      "text/plain": [
       "<Figure size 1000x700 with 4 Axes>"
      ]
     },
     "metadata": {
      "needs_background": "light"
     },
     "output_type": "display_data"
    }
   ],
   "source": [
    "X_train, X_test, y_train, y_test = split(df)"
   ]
  },
  {
   "cell_type": "markdown",
   "metadata": {},
   "source": [
    "Tę funkcję będziemy używali do wyznaczania tego, jak dobrze działają różne modele regresji."
   ]
  },
  {
   "cell_type": "code",
   "execution_count": 20,
   "metadata": {},
   "outputs": [],
   "source": [
    "def check_regressor(reg_model, graph=True, verbose=True, tree=False):\n",
    "    \n",
    "    reg_model.fit(X_train, y_train)\n",
    "    y_pred = reg_model.predict(X_test)\n",
    "    print(y_pred)\n",
    "    print(y_test)\n",
    "    score = reg_model.score(X_test, y_test)\n",
    "    \n",
    "    if verbose:\n",
    "        print(reg_model.__class__.__name__, score)\n",
    "    \n",
    "    if graph:\n",
    "        x_feature = 'health_estimate'\n",
    "        plt.scatter(X_test[x_feature], y_test, color='red', label='Testing Set')\n",
    "        plt.scatter(X_test[x_feature], y_pred, color='black', label='Prediction')\n",
    "        plt.xlabel(x_feature)\n",
    "        plt.ylabel('happiness')\n",
    "        plt.legend()\n",
    "        \n",
    "    if tree:\n",
    "        print(reg_model.n_features_)\n",
    "        print(reg_model.feature_importances_)\n",
    "        print(reg_model.max_features_)\n",
    "        print(reg_model.n_outputs_)\n",
    "        \n",
    "    return score"
   ]
  },
  {
   "cell_type": "markdown",
   "metadata": {},
   "source": [
    "Jak widać z wykresów powyżej, zebrane dane praktycznie nie układają się pięknie według trendu, więc predykcja za pomocą regresji może być nieco skomplikowanym zadaniem. Nie pomaga też i ilość danych: tylko 33 próbki na 5 dobrze skorelowanych cech.\n",
    "\n",
    "Metody które zostałe użyte:\n",
    "* Zwykła regresja liniowa (porażka - bardzo mało danych).\n",
    "* Regresja wieloraka z potęgowaniem każdej z cech (porażka - za szybko rośnie wariancja).\n",
    "* Metody z regularyzacją: Ridge i Lasso regression (???)\n",
    "* Ridge i Lasso z walidacją krzyżową (???)\n",
    "* Metody z regularyzacją z potęgowaniem (???)\n",
    "* Drzewa decyzyjne i lase losowe (???)\n",
    "* Wyskalowanie cech (???)"
   ]
  },
  {
   "cell_type": "markdown",
   "metadata": {},
   "source": [
    "## Linear Regression"
   ]
  },
  {
   "cell_type": "code",
   "execution_count": 100,
   "metadata": {},
   "outputs": [
    {
     "data": {
      "text/plain": [
       "<matplotlib.legend.Legend at 0x7fbf568c4d90>"
      ]
     },
     "execution_count": 100,
     "metadata": {},
     "output_type": "execute_result"
    },
    {
     "data": {
      "image/png": "[encoded data removed]",
      "text/plain": [
       "<Figure size 432x288 with 1 Axes>"
      ]
     },
     "metadata": {
      "needs_background": "light"
     },
     "output_type": "display_data"
    }
   ],
   "source": [
    "from sklearn.linear_model import LinearRegression\n",
    "model = LinearRegression()\n",
    "\n",
    "model.fit(X_train, y_train)\n",
    "y_pred = model.predict(X_test)\n",
    "\n",
    "x_feature = 'health_estimate'\n",
    "plt.scatter(sorted(X_test[x_feature]), y_test, color='red', label='Testing Set')\n",
    "plt.plot(sorted(X_test[x_feature]), y_pred, color='black', label='Prediction')\n",
    "plt.xlabel(x_feature)\n",
    "plt.ylabel('happiness')\n",
    "plt.legend()"
   ]
  },
  {
   "cell_type": "markdown",
   "metadata": {},
   "source": [
    "## Ridge"
   ]
  },
  {
   "cell_type": "code",
   "execution_count": 36,
   "metadata": {},
   "outputs": [],
   "source": [
    "from sklearn.linear_model import Ridge"
   ]
  },
  {
   "cell_type": "code",
   "execution_count": 37,
   "metadata": {},
   "outputs": [
    {
     "name": "stdout",
     "output_type": "stream",
     "text": [
      "[32.33844348 35.83913588 29.16346838 17.89986772 40.06589902 22.13892835\n",
      " 29.46840018 28.97526755 17.18951858 20.6215928 ]\n",
      "[23.9  29.82 41.1  18.6  41.3  19.4  18.3  28.3  13.1  35.9 ]\n",
      "Ridge 0.2938887294472553\n"
     ]
    },
    {
     "data": {
      "text/plain": [
       "0.2938887294472553"
      ]
     },
     "execution_count": 37,
     "metadata": {},
     "output_type": "execute_result"
    },
    {
     "data": {
      "image/png": "[encoded data removed]",
      "text/plain": [
       "<Figure size 432x288 with 1 Axes>"
      ]
     },
     "metadata": {
      "needs_background": "light"
     },
     "output_type": "display_data"
    }
   ],
   "source": [
    "ridge = Ridge(alpha=1000.0)\n",
    "check_regressor(ridge, graph=True)"
   ]
  },
  {
   "cell_type": "markdown",
   "metadata": {},
   "source": [
    "## Lasso"
   ]
  },
  {
   "cell_type": "code",
   "execution_count": 41,
   "metadata": {},
   "outputs": [],
   "source": [
    "from sklearn.linear_model import Lasso"
   ]
  },
  {
   "cell_type": "code",
   "execution_count": 49,
   "metadata": {},
   "outputs": [
    {
     "name": "stdout",
     "output_type": "stream",
     "text": [
      "[34.58988791 36.69180288 33.57231046 14.67722927 30.6042549  23.59651231\n",
      " 29.17427882 26.97404665 15.27048873 18.76092336]\n",
      "[23.9  29.82 41.1  18.6  41.3  19.4  18.3  28.3  13.1  35.9 ]\n",
      "Lasso 0.1278659111289343\n"
     ]
    },
    {
     "data": {
      "text/plain": [
       "0.1278659111289343"
      ]
     },
     "execution_count": 49,
     "metadata": {},
     "output_type": "execute_result"
    },
    {
     "data": {
      "image/png": "[encoded data removed]",
      "text/plain": [
       "<Figure size 432x288 with 1 Axes>"
      ]
     },
     "metadata": {
      "needs_background": "light"
     },
     "output_type": "display_data"
    }
   ],
   "source": [
    "lasso = Lasso(alpha=0.05)\n",
    "check_regressor(lasso, graph=True)"
   ]
  },
  {
   "cell_type": "markdown",
   "metadata": {},
   "source": [
    "## Ridge/Lasso with Cross-Validation"
   ]
  },
  {
   "cell_type": "markdown",
   "metadata": {},
   "source": [
    "## Decision Tree Regressor"
   ]
  },
  {
   "cell_type": "code",
   "execution_count": null,
   "metadata": {},
   "outputs": [],
   "source": [
    "from sklearn.tree import DecisionTreeRegressor"
   ]
  },
  {
   "cell_type": "code",
   "execution_count": null,
   "metadata": {},
   "outputs": [],
   "source": [
    "check_regressor(DecisionTreeRegressor(), tree=True)"
   ]
  },
  {
   "cell_type": "code",
   "execution_count": null,
   "metadata": {},
   "outputs": [],
   "source": [
    "mds = []\n",
    "for md in range(1, 30, 1):\n",
    "    tree_reg = DecisionTreeRegressor(max_depth=md)\n",
    "    s = check_regressor(tree_reg, graph=False, verbose=False)\n",
    "    mds.append(s)\n",
    "    print(f'MaxDepth={md}: {s}')\n",
    "plt.plot(list(range(1, 30)), mds)"
   ]
  },
  {
   "cell_type": "markdown",
   "metadata": {},
   "source": [
    "## Random Forest Regressor"
   ]
  },
  {
   "cell_type": "code",
   "execution_count": null,
   "metadata": {},
   "outputs": [],
   "source": [
    "from sklearn.ensemble import RandomForestRegressor"
   ]
  },
  {
   "cell_type": "code",
   "execution_count": null,
   "metadata": {},
   "outputs": [],
   "source": [
    "model = RandomForestRegressor(n_estimators=100, max_leaf_nodes=16)\n",
    "check_regressor(model)"
   ]
  },
  {
   "cell_type": "markdown",
   "metadata": {},
   "source": [
    "## Scaling"
   ]
  },
  {
   "cell_type": "code",
   "execution_count": null,
   "metadata": {},
   "outputs": [],
   "source": [
    "df.head()"
   ]
  },
  {
   "cell_type": "code",
   "execution_count": null,
   "metadata": {},
   "outputs": [],
   "source": [
    "from sklearn import preprocessing\n",
    "\n",
    "def skaluj(df):\n",
    "    cols_to_drop = ['country']\n",
    "    cols = [e for e in df.columns if e not in cols_to_drop]\n",
    "\n",
    "    x = df.drop(cols_to_drop, axis=1).values \n",
    "    min_max_scaler = preprocessing.MinMaxScaler()\n",
    "    x_scaled = min_max_scaler.fit_transform(x)\n",
    "    df_std = pd.DataFrame(x_scaled, columns=cols)\n",
    "    df_std.index = df['country']\n",
    "    print(df_std.shape)\n",
    "    return df_std"
   ]
  },
  {
   "cell_type": "code",
   "execution_count": null,
   "metadata": {},
   "outputs": [],
   "source": [
    "df_std = skaluj(df)"
   ]
  },
  {
   "cell_type": "code",
   "execution_count": null,
   "metadata": {},
   "outputs": [],
   "source": [
    "df_std.head()"
   ]
  },
  {
   "cell_type": "code",
   "execution_count": null,
   "metadata": {},
   "outputs": [],
   "source": [
    "X_train, X_test, y_train, y_test = split(df_std)"
   ]
  },
  {
   "cell_type": "markdown",
   "metadata": {},
   "source": [
    "## Polynomial Regression"
   ]
  },
  {
   "cell_type": "code",
   "execution_count": null,
   "metadata": {},
   "outputs": [],
   "source": [
    "from sklearn.preprocessing import PolynomialFeatures\n"
   ]
  },
  {
   "cell_type": "code",
   "execution_count": null,
   "metadata": {},
   "outputs": [],
   "source": []
  },
  {
   "cell_type": "code",
   "execution_count": null,
   "metadata": {},
   "outputs": [],
   "source": [
    "X_train.head()"
   ]
  },
  {
   "cell_type": "code",
   "execution_count": null,
   "metadata": {},
   "outputs": [],
   "source": [
    "def produce_matrix(dataframe, n):\n",
    "    d = dataframe.copy()\n",
    "    d_col = d.columns\n",
    "    for st in range(2, n+1):\n",
    "        for fea in d_col:\n",
    "            d[f'{fea}^{st}'] = d[fea]**st\n",
    "    d.insert(0, 'intercept', 1.0)\n",
    "    return d"
   ]
  },
  {
   "cell_type": "code",
   "execution_count": null,
   "metadata": {},
   "outputs": [],
   "source": [
    "s = 7\n",
    "# X_train_pow = produce_matrix(X_train, stopen)\n",
    "# X_test_pow = produce_matrix(X_test, stopen)\n",
    "\n",
    "# a = produce_matrix(pd.DataFrame(X_train['education_underachievements']), 2)\n",
    "# b = produce_matrix(pd.DataFrame(X_test['education_underachievements']), 2)\n",
    "\n",
    "a = pd.DataFrame(X_train['education_underachievements'])\n",
    "a = produce_matrix(a, s)\n",
    "a\n",
    "\n",
    "\n",
    "b = pd.DataFrame(X_test['education_underachievements'])\n",
    "b = produce_matrix(b, s)\n",
    "b\n",
    "\n",
    "# X_train_pow = np.array(a).reshape(-1,1)\n",
    "# X_test_pow = np.array(b).reshape(-1,1)\n",
    "\n",
    "# X_test_pow\n",
    "# b\n",
    "model = LinearRegression()\n",
    "model.fit(a, y_train)\n",
    "y_pred = model.predict(b)\n",
    "\n",
    "plt.scatter(X_test['education_underachievements'], y_test, color='red')\n",
    "plt.scatter(X_test['education_underachievements'], y_pred, color='black')\n",
    "\n",
    "# model.score(X_test_pow, y_test)\n",
    "# y_pred"
   ]
  },
  {
   "cell_type": "code",
   "execution_count": null,
   "metadata": {},
   "outputs": [],
   "source": []
  },
  {
   "cell_type": "code",
   "execution_count": null,
   "metadata": {},
   "outputs": [],
   "source": []
  },
  {
   "cell_type": "code",
   "execution_count": null,
   "metadata": {},
   "outputs": [],
   "source": []
  },
  {
   "cell_type": "code",
   "execution_count": null,
   "metadata": {},
   "outputs": [],
   "source": []
  },
  {
   "cell_type": "code",
   "execution_count": null,
   "metadata": {},
   "outputs": [],
   "source": []
  },
  {
   "cell_type": "code",
   "execution_count": null,
   "metadata": {},
   "outputs": [],
   "source": []
  },
  {
   "cell_type": "code",
   "execution_count": null,
   "metadata": {},
   "outputs": [],
   "source": []
  },
  {
   "cell_type": "code",
   "execution_count": null,
   "metadata": {},
   "outputs": [],
   "source": []
  },
  {
   "cell_type": "code",
   "execution_count": null,
   "metadata": {},
   "outputs": [],
   "source": [
    "poly = PolynomialFeatures(degree=2)"
   ]
  },
  {
   "cell_type": "code",
   "execution_count": null,
   "metadata": {},
   "outputs": [],
   "source": [
    "X_train_ = poly.fit_transform(X_train)\n",
    "X_test_ = poly.fit_transform(X_test)"
   ]
  },
  {
   "cell_type": "code",
   "execution_count": null,
   "metadata": {},
   "outputs": [],
   "source": [
    "model = LinearRegression()\n",
    "model.fit(X_train_, y_train)\n",
    "y_pred = model.predict(X_test_)\n",
    "y_pred"
   ]
  },
  {
   "cell_type": "code",
   "execution_count": null,
   "metadata": {},
   "outputs": [],
   "source": [
    "x_feature = 'health_estimate'\n",
    "plt.scatter(X_test[x_feature], y_test, color='red', label='Testing Set')\n",
    "plt.scatter(X_test[x_feature], y_pred, color='black', label='Prediction')\n",
    "plt.xlabel(x_feature)\n",
    "plt.ylabel('happiness')\n",
    "plt.legend()"
   ]
  },
  {
   "cell_type": "code",
   "execution_count": null,
   "metadata": {},
   "outputs": [],
   "source": [
    "X_train.head()\n",
    "# df[features]"
   ]
  },
  {
   "cell_type": "code",
   "execution_count": null,
   "metadata": {},
   "outputs": [],
   "source": []
  },
  {
   "cell_type": "code",
   "execution_count": null,
   "metadata": {},
   "outputs": [],
   "source": []
  },
  {
   "cell_type": "code",
   "execution_count": null,
   "metadata": {},
   "outputs": [],
   "source": []
  },
  {
   "cell_type": "code",
   "execution_count": null,
   "metadata": {},
   "outputs": [],
   "source": []
  }
 ],
 "metadata": {
  "kernelspec": {
   "display_name": "Python 3",
   "language": "python",
   "name": "python3"
  },
  "language_info": {
   "codemirror_mode": {
    "name": "ipython",
    "version": 3
   },
   "file_extension": ".py",
   "mimetype": "text/x-python",
   "name": "python",
   "nbconvert_exporter": "python",
   "pygments_lexer": "ipython3",
   "version": "3.7.4"
  }
 },
 "nbformat": 4,
 "nbformat_minor": 2
}
