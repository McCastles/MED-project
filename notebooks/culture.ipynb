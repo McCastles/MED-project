{
 "cells": [
  {
   "cell_type": "code",
   "execution_count": 1,
   "metadata": {},
   "outputs": [],
   "source": [
    "import pandas as pd"
   ]
  },
  {
   "cell_type": "code",
   "execution_count": 2,
   "metadata": {},
   "outputs": [],
   "source": [
    "org = pd.read_csv('../eurostat/raw_culture.csv')"
   ]
  },
  {
   "cell_type": "code",
   "execution_count": 3,
   "metadata": {},
   "outputs": [
    {
     "data": {
      "text/plain": [
       "Index(['ACL00', 'GEO', 'FREQUENC', 'TIME', 'ISCED11', 'AGE', 'SEX', 'UNIT',\n",
       "       'Value'],\n",
       "      dtype='object')"
      ]
     },
     "execution_count": 3,
     "metadata": {},
     "output_type": "execute_result"
    }
   ],
   "source": [
    "org.columns"
   ]
  },
  {
   "cell_type": "code",
   "execution_count": 4,
   "metadata": {},
   "outputs": [
    {
     "data": {
      "text/html": [
       "<div>\n",
       "<style scoped>\n",
       "    .dataframe tbody tr th:only-of-type {\n",
       "        vertical-align: middle;\n",
       "    }\n",
       "\n",
       "    .dataframe tbody tr th {\n",
       "        vertical-align: top;\n",
       "    }\n",
       "\n",
       "    .dataframe thead th {\n",
       "        text-align: right;\n",
       "    }\n",
       "</style>\n",
       "<table border=\"1\" class=\"dataframe\">\n",
       "  <thead>\n",
       "    <tr style=\"text-align: right;\">\n",
       "      <th></th>\n",
       "      <th>ACL00</th>\n",
       "      <th>GEO</th>\n",
       "      <th>FREQUENC</th>\n",
       "      <th>TIME</th>\n",
       "      <th>ISCED11</th>\n",
       "      <th>AGE</th>\n",
       "      <th>SEX</th>\n",
       "      <th>UNIT</th>\n",
       "      <th>Value</th>\n",
       "    </tr>\n",
       "  </thead>\n",
       "  <tbody>\n",
       "    <tr>\n",
       "      <th>0</th>\n",
       "      <td>Cinema</td>\n",
       "      <td>Belgium</td>\n",
       "      <td>At least 4 times</td>\n",
       "      <td>2015</td>\n",
       "      <td>All ISCED 2011 levels</td>\n",
       "      <td>16 years or over</td>\n",
       "      <td>Total</td>\n",
       "      <td>Percentage</td>\n",
       "      <td>22.7</td>\n",
       "    </tr>\n",
       "    <tr>\n",
       "      <th>1</th>\n",
       "      <td>Cinema</td>\n",
       "      <td>Bulgaria</td>\n",
       "      <td>At least 4 times</td>\n",
       "      <td>2015</td>\n",
       "      <td>All ISCED 2011 levels</td>\n",
       "      <td>16 years or over</td>\n",
       "      <td>Total</td>\n",
       "      <td>Percentage</td>\n",
       "      <td>8.6</td>\n",
       "    </tr>\n",
       "    <tr>\n",
       "      <th>2</th>\n",
       "      <td>Cinema</td>\n",
       "      <td>Czechia</td>\n",
       "      <td>At least 4 times</td>\n",
       "      <td>2015</td>\n",
       "      <td>All ISCED 2011 levels</td>\n",
       "      <td>16 years or over</td>\n",
       "      <td>Total</td>\n",
       "      <td>Percentage</td>\n",
       "      <td>16.6</td>\n",
       "    </tr>\n",
       "    <tr>\n",
       "      <th>3</th>\n",
       "      <td>Cinema</td>\n",
       "      <td>Denmark</td>\n",
       "      <td>At least 4 times</td>\n",
       "      <td>2015</td>\n",
       "      <td>All ISCED 2011 levels</td>\n",
       "      <td>16 years or over</td>\n",
       "      <td>Total</td>\n",
       "      <td>Percentage</td>\n",
       "      <td>21.5</td>\n",
       "    </tr>\n",
       "    <tr>\n",
       "      <th>4</th>\n",
       "      <td>Cinema</td>\n",
       "      <td>Germany (until 1990 former territory of the FRG)</td>\n",
       "      <td>At least 4 times</td>\n",
       "      <td>2015</td>\n",
       "      <td>All ISCED 2011 levels</td>\n",
       "      <td>16 years or over</td>\n",
       "      <td>Total</td>\n",
       "      <td>Percentage</td>\n",
       "      <td>15.8</td>\n",
       "    </tr>\n",
       "  </tbody>\n",
       "</table>\n",
       "</div>"
      ],
      "text/plain": [
       "    ACL00                                               GEO          FREQUENC  \\\n",
       "0  Cinema                                           Belgium  At least 4 times   \n",
       "1  Cinema                                          Bulgaria  At least 4 times   \n",
       "2  Cinema                                           Czechia  At least 4 times   \n",
       "3  Cinema                                           Denmark  At least 4 times   \n",
       "4  Cinema  Germany (until 1990 former territory of the FRG)  At least 4 times   \n",
       "\n",
       "   TIME                 ISCED11               AGE    SEX        UNIT  Value  \n",
       "0  2015  All ISCED 2011 levels   16 years or over  Total  Percentage   22.7  \n",
       "1  2015  All ISCED 2011 levels   16 years or over  Total  Percentage    8.6  \n",
       "2  2015  All ISCED 2011 levels   16 years or over  Total  Percentage   16.6  \n",
       "3  2015  All ISCED 2011 levels   16 years or over  Total  Percentage   21.5  \n",
       "4  2015  All ISCED 2011 levels   16 years or over  Total  Percentage   15.8  "
      ]
     },
     "execution_count": 4,
     "metadata": {},
     "output_type": "execute_result"
    }
   ],
   "source": [
    "org.head()"
   ]
  },
  {
   "cell_type": "code",
   "execution_count": 5,
   "metadata": {},
   "outputs": [
    {
     "name": "stdout",
     "output_type": "stream",
     "text": [
      "(132, 3)\n"
     ]
    },
    {
     "name": "stderr",
     "output_type": "stream",
     "text": [
      "/home/mccastles/miniconda3/envs/data/lib/python3.7/site-packages/pandas/core/indexing.py:494: SettingWithCopyWarning: \n",
      "A value is trying to be set on a copy of a slice from a DataFrame.\n",
      "Try using .loc[row_indexer,col_indexer] = value instead\n",
      "\n",
      "See the caveats in the documentation: http://pandas.pydata.org/pandas-docs/stable/user_guide/indexing.html#returning-a-view-versus-a-copy\n",
      "  self.obj[item] = s\n"
     ]
    },
    {
     "data": {
      "text/html": [
       "<div>\n",
       "<style scoped>\n",
       "    .dataframe tbody tr th:only-of-type {\n",
       "        vertical-align: middle;\n",
       "    }\n",
       "\n",
       "    .dataframe tbody tr th {\n",
       "        vertical-align: top;\n",
       "    }\n",
       "\n",
       "    .dataframe thead th {\n",
       "        text-align: right;\n",
       "    }\n",
       "</style>\n",
       "<table border=\"1\" class=\"dataframe\">\n",
       "  <thead>\n",
       "    <tr style=\"text-align: right;\">\n",
       "      <th></th>\n",
       "      <th>activity</th>\n",
       "      <th>country</th>\n",
       "      <th>value</th>\n",
       "    </tr>\n",
       "  </thead>\n",
       "  <tbody>\n",
       "    <tr>\n",
       "      <th>0</th>\n",
       "      <td>Live performances (theatre, concerts, ballet)</td>\n",
       "      <td>Austria</td>\n",
       "      <td>21.8</td>\n",
       "    </tr>\n",
       "    <tr>\n",
       "      <th>1</th>\n",
       "      <td>Cinema</td>\n",
       "      <td>Austria</td>\n",
       "      <td>19.3</td>\n",
       "    </tr>\n",
       "    <tr>\n",
       "      <th>2</th>\n",
       "      <td>Cultural sites (historical monuments, museums,...</td>\n",
       "      <td>Austria</td>\n",
       "      <td>15.8</td>\n",
       "    </tr>\n",
       "    <tr>\n",
       "      <th>3</th>\n",
       "      <td>Sports events</td>\n",
       "      <td>Austria</td>\n",
       "      <td>16.7</td>\n",
       "    </tr>\n",
       "    <tr>\n",
       "      <th>4</th>\n",
       "      <td>Cultural sites (historical monuments, museums,...</td>\n",
       "      <td>Belgium</td>\n",
       "      <td>19.6</td>\n",
       "    </tr>\n",
       "  </tbody>\n",
       "</table>\n",
       "</div>"
      ],
      "text/plain": [
       "                                            activity  country  value\n",
       "0      Live performances (theatre, concerts, ballet)  Austria   21.8\n",
       "1                                             Cinema  Austria   19.3\n",
       "2  Cultural sites (historical monuments, museums,...  Austria   15.8\n",
       "3                                      Sports events  Austria   16.7\n",
       "4  Cultural sites (historical monuments, museums,...  Belgium   19.6"
      ]
     },
     "execution_count": 5,
     "metadata": {},
     "output_type": "execute_result"
    }
   ],
   "source": [
    "df = org[['ACL00', 'GEO', 'Value']]\n",
    "df.columns = ['activity', 'country', 'value']\n",
    "df.loc[df['country'] == 'Germany (until 1990 former territory of the FRG)', 'country'] = 'Germany'\n",
    "df = df.sort_values('country').reset_index(drop=True)\n",
    "print(df.shape)\n",
    "df.head()"
   ]
  },
  {
   "cell_type": "code",
   "execution_count": 6,
   "metadata": {},
   "outputs": [],
   "source": [
    "df = df.pivot(index='country', columns='activity', values='value')"
   ]
  },
  {
   "cell_type": "code",
   "execution_count": 7,
   "metadata": {},
   "outputs": [
    {
     "data": {
      "text/html": [
       "<div>\n",
       "<style scoped>\n",
       "    .dataframe tbody tr th:only-of-type {\n",
       "        vertical-align: middle;\n",
       "    }\n",
       "\n",
       "    .dataframe tbody tr th {\n",
       "        vertical-align: top;\n",
       "    }\n",
       "\n",
       "    .dataframe thead th {\n",
       "        text-align: right;\n",
       "    }\n",
       "</style>\n",
       "<table border=\"1\" class=\"dataframe\">\n",
       "  <thead>\n",
       "    <tr style=\"text-align: right;\">\n",
       "      <th>activity</th>\n",
       "      <th>Cinema</th>\n",
       "      <th>Cultural sites (historical monuments, museums, art galleries or archaeological sites)</th>\n",
       "      <th>Live performances (theatre, concerts, ballet)</th>\n",
       "      <th>Sports events</th>\n",
       "    </tr>\n",
       "    <tr>\n",
       "      <th>country</th>\n",
       "      <th></th>\n",
       "      <th></th>\n",
       "      <th></th>\n",
       "      <th></th>\n",
       "    </tr>\n",
       "  </thead>\n",
       "  <tbody>\n",
       "    <tr>\n",
       "      <th>Austria</th>\n",
       "      <td>19.3</td>\n",
       "      <td>15.8</td>\n",
       "      <td>21.8</td>\n",
       "      <td>16.7</td>\n",
       "    </tr>\n",
       "    <tr>\n",
       "      <th>Belgium</th>\n",
       "      <td>22.7</td>\n",
       "      <td>19.6</td>\n",
       "      <td>20.3</td>\n",
       "      <td>19.6</td>\n",
       "    </tr>\n",
       "    <tr>\n",
       "      <th>Bulgaria</th>\n",
       "      <td>8.6</td>\n",
       "      <td>4.5</td>\n",
       "      <td>6.7</td>\n",
       "      <td>6.9</td>\n",
       "    </tr>\n",
       "    <tr>\n",
       "      <th>Croatia</th>\n",
       "      <td>9.2</td>\n",
       "      <td>5.1</td>\n",
       "      <td>10.0</td>\n",
       "      <td>11.8</td>\n",
       "    </tr>\n",
       "    <tr>\n",
       "      <th>Cyprus</th>\n",
       "      <td>7.9</td>\n",
       "      <td>4.0</td>\n",
       "      <td>11.3</td>\n",
       "      <td>12.2</td>\n",
       "    </tr>\n",
       "  </tbody>\n",
       "</table>\n",
       "</div>"
      ],
      "text/plain": [
       "activity  Cinema  \\\n",
       "country            \n",
       "Austria     19.3   \n",
       "Belgium     22.7   \n",
       "Bulgaria     8.6   \n",
       "Croatia      9.2   \n",
       "Cyprus       7.9   \n",
       "\n",
       "activity  Cultural sites (historical monuments, museums, art galleries or archaeological sites)  \\\n",
       "country                                                                                           \n",
       "Austria                                                15.8                                       \n",
       "Belgium                                                19.6                                       \n",
       "Bulgaria                                                4.5                                       \n",
       "Croatia                                                 5.1                                       \n",
       "Cyprus                                                  4.0                                       \n",
       "\n",
       "activity  Live performances (theatre, concerts, ballet)  Sports events  \n",
       "country                                                                 \n",
       "Austria                                            21.8           16.7  \n",
       "Belgium                                            20.3           19.6  \n",
       "Bulgaria                                            6.7            6.9  \n",
       "Croatia                                            10.0           11.8  \n",
       "Cyprus                                             11.3           12.2  "
      ]
     },
     "execution_count": 7,
     "metadata": {},
     "output_type": "execute_result"
    }
   ],
   "source": [
    "df.head()"
   ]
  },
  {
   "cell_type": "code",
   "execution_count": 12,
   "metadata": {},
   "outputs": [],
   "source": [
    "df = pd.DataFrame(round(df.mean(axis=1), 2), columns=['culture_percent'])"
   ]
  },
  {
   "cell_type": "code",
   "execution_count": 13,
   "metadata": {},
   "outputs": [
    {
     "data": {
      "text/html": [
       "<div>\n",
       "<style scoped>\n",
       "    .dataframe tbody tr th:only-of-type {\n",
       "        vertical-align: middle;\n",
       "    }\n",
       "\n",
       "    .dataframe tbody tr th {\n",
       "        vertical-align: top;\n",
       "    }\n",
       "\n",
       "    .dataframe thead th {\n",
       "        text-align: right;\n",
       "    }\n",
       "</style>\n",
       "<table border=\"1\" class=\"dataframe\">\n",
       "  <thead>\n",
       "    <tr style=\"text-align: right;\">\n",
       "      <th></th>\n",
       "      <th>culture_percent</th>\n",
       "    </tr>\n",
       "    <tr>\n",
       "      <th>country</th>\n",
       "      <th></th>\n",
       "    </tr>\n",
       "  </thead>\n",
       "  <tbody>\n",
       "    <tr>\n",
       "      <th>Austria</th>\n",
       "      <td>18.40</td>\n",
       "    </tr>\n",
       "    <tr>\n",
       "      <th>Belgium</th>\n",
       "      <td>20.55</td>\n",
       "    </tr>\n",
       "    <tr>\n",
       "      <th>Bulgaria</th>\n",
       "      <td>6.68</td>\n",
       "    </tr>\n",
       "    <tr>\n",
       "      <th>Croatia</th>\n",
       "      <td>9.02</td>\n",
       "    </tr>\n",
       "    <tr>\n",
       "      <th>Cyprus</th>\n",
       "      <td>8.85</td>\n",
       "    </tr>\n",
       "  </tbody>\n",
       "</table>\n",
       "</div>"
      ],
      "text/plain": [
       "          culture_percent\n",
       "country                  \n",
       "Austria             18.40\n",
       "Belgium             20.55\n",
       "Bulgaria             6.68\n",
       "Croatia              9.02\n",
       "Cyprus               8.85"
      ]
     },
     "execution_count": 13,
     "metadata": {},
     "output_type": "execute_result"
    }
   ],
   "source": [
    "df.head()"
   ]
  },
  {
   "cell_type": "code",
   "execution_count": 15,
   "metadata": {},
   "outputs": [],
   "source": [
    "# df.to_csv('../data/culture.csv')\n",
    "df.to_excel('../data/culture.xlsx')"
   ]
  }
 ],
 "metadata": {
  "kernelspec": {
   "display_name": "Python 3",
   "language": "python",
   "name": "python3"
  },
  "language_info": {
   "codemirror_mode": {
    "name": "ipython",
    "version": 3
   },
   "file_extension": ".py",
   "mimetype": "text/x-python",
   "name": "python",
   "nbconvert_exporter": "python",
   "pygments_lexer": "ipython3",
   "version": "3.7.4"
  }
 },
 "nbformat": 4,
 "nbformat_minor": 2
}
