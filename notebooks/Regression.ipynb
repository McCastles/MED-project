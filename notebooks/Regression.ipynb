{
 "cells": [
  {
   "cell_type": "code",
   "execution_count": 1,
   "metadata": {},
   "outputs": [],
   "source": [
    "import pandas as pd\n",
    "import numpy as np\n",
    "import seaborn as sns\n",
    "import matplotlib.pyplot as plt\n",
    "from sklearn.model_selection import train_test_split"
   ]
  },
  {
   "cell_type": "code",
   "execution_count": 2,
   "metadata": {},
   "outputs": [
    {
     "data": {
      "text/html": [
       "<div>\n",
       "<style scoped>\n",
       "    .dataframe tbody tr th:only-of-type {\n",
       "        vertical-align: middle;\n",
       "    }\n",
       "\n",
       "    .dataframe tbody tr th {\n",
       "        vertical-align: top;\n",
       "    }\n",
       "\n",
       "    .dataframe thead th {\n",
       "        text-align: right;\n",
       "    }\n",
       "</style>\n",
       "<table border=\"1\" class=\"dataframe\">\n",
       "  <thead>\n",
       "    <tr style=\"text-align: right;\">\n",
       "      <th></th>\n",
       "      <th>country</th>\n",
       "      <th>population</th>\n",
       "      <th>happiness</th>\n",
       "      <th>bad_conditions</th>\n",
       "      <th>culture</th>\n",
       "      <th>health_estimate</th>\n",
       "      <th>commute</th>\n",
       "      <th>education_underachievements</th>\n",
       "      <th>minimum_wage</th>\n",
       "      <th>unmet_medical_needs</th>\n",
       "    </tr>\n",
       "  </thead>\n",
       "  <tbody>\n",
       "    <tr>\n",
       "      <th>0</th>\n",
       "      <td>Austria</td>\n",
       "      <td>8858775</td>\n",
       "      <td>39.7</td>\n",
       "      <td>10.4</td>\n",
       "      <td>18.40</td>\n",
       "      <td>71.4</td>\n",
       "      <td>39.6</td>\n",
       "      <td>21.69</td>\n",
       "      <td>1500.00</td>\n",
       "      <td>0.1</td>\n",
       "    </tr>\n",
       "    <tr>\n",
       "      <th>1</th>\n",
       "      <td>Belgium</td>\n",
       "      <td>11467923</td>\n",
       "      <td>21.2</td>\n",
       "      <td>18.0</td>\n",
       "      <td>20.55</td>\n",
       "      <td>74.5</td>\n",
       "      <td>48.2</td>\n",
       "      <td>19.80</td>\n",
       "      <td>1501.82</td>\n",
       "      <td>1.8</td>\n",
       "    </tr>\n",
       "    <tr>\n",
       "      <th>2</th>\n",
       "      <td>Bulgaria</td>\n",
       "      <td>7000039</td>\n",
       "      <td>9.5</td>\n",
       "      <td>13.0</td>\n",
       "      <td>6.68</td>\n",
       "      <td>66.4</td>\n",
       "      <td>33.4</td>\n",
       "      <td>40.46</td>\n",
       "      <td>184.07</td>\n",
       "      <td>1.9</td>\n",
       "    </tr>\n",
       "    <tr>\n",
       "      <th>3</th>\n",
       "      <td>Croatia</td>\n",
       "      <td>4076246</td>\n",
       "      <td>16.5</td>\n",
       "      <td>11.2</td>\n",
       "      <td>9.02</td>\n",
       "      <td>60.7</td>\n",
       "      <td>37.9</td>\n",
       "      <td>25.02</td>\n",
       "      <td>395.61</td>\n",
       "      <td>1.4</td>\n",
       "    </tr>\n",
       "    <tr>\n",
       "      <th>4</th>\n",
       "      <td>Cyprus</td>\n",
       "      <td>875898</td>\n",
       "      <td>22.4</td>\n",
       "      <td>30.2</td>\n",
       "      <td>8.85</td>\n",
       "      <td>76.3</td>\n",
       "      <td>22.4</td>\n",
       "      <td>39.97</td>\n",
       "      <td>870.00</td>\n",
       "      <td>1.4</td>\n",
       "    </tr>\n",
       "  </tbody>\n",
       "</table>\n",
       "</div>"
      ],
      "text/plain": [
       "    country  population  happiness  bad_conditions  culture  health_estimate  \\\n",
       "0   Austria     8858775       39.7            10.4    18.40             71.4   \n",
       "1   Belgium    11467923       21.2            18.0    20.55             74.5   \n",
       "2  Bulgaria     7000039        9.5            13.0     6.68             66.4   \n",
       "3   Croatia     4076246       16.5            11.2     9.02             60.7   \n",
       "4    Cyprus      875898       22.4            30.2     8.85             76.3   \n",
       "\n",
       "   commute  education_underachievements  minimum_wage  unmet_medical_needs  \n",
       "0     39.6                        21.69       1500.00                  0.1  \n",
       "1     48.2                        19.80       1501.82                  1.8  \n",
       "2     33.4                        40.46        184.07                  1.9  \n",
       "3     37.9                        25.02        395.61                  1.4  \n",
       "4     22.4                        39.97        870.00                  1.4  "
      ]
     },
     "execution_count": 2,
     "metadata": {},
     "output_type": "execute_result"
    }
   ],
   "source": [
    "df = pd.read_excel('../data/main.xlsx', header=0)\n",
    "df.head()"
   ]
  },
  {
   "cell_type": "code",
   "execution_count": 3,
   "metadata": {},
   "outputs": [
    {
     "data": {
      "text/plain": [
       "education_underachievements   -0.556358\n",
       "bad_conditions                -0.446700\n",
       "unmet_medical_needs           -0.253131\n",
       "population                    -0.090328\n",
       "commute                        0.360781\n",
       "health_estimate                0.489360\n",
       "culture                        0.547529\n",
       "minimum_wage                   0.616758\n",
       "happiness                      1.000000\n",
       "Name: happiness, dtype: float64"
      ]
     },
     "execution_count": 3,
     "metadata": {},
     "output_type": "execute_result"
    }
   ],
   "source": [
    "df.corr()['happiness'].sort_values()"
   ]
  },
  {
   "cell_type": "code",
   "execution_count": 4,
   "metadata": {},
   "outputs": [
    {
     "data": {
      "text/plain": [
       "['population',\n",
       " 'bad_conditions',\n",
       " 'culture',\n",
       " 'health_estimate',\n",
       " 'commute',\n",
       " 'education_underachievements',\n",
       " 'minimum_wage',\n",
       " 'unmet_medical_needs']"
      ]
     },
     "execution_count": 4,
     "metadata": {},
     "output_type": "execute_result"
    }
   ],
   "source": [
    "# features = ['education_underachievements', 'bad_conditions', 'health_estimate', 'culture', 'minimum_wage']\n",
    "features = [f for f in df.columns if f not in ['country', 'happiness']]\n",
    "target_feature = ['happiness']\n",
    "features"
   ]
  },
  {
   "cell_type": "code",
   "execution_count": 110,
   "metadata": {},
   "outputs": [],
   "source": [
    "def split(dataframe):\n",
    "    X_train, X_test, y_train, y_test = train_test_split(dataframe[features], dataframe[target_feature],\n",
    "                                                    test_size=0.3, random_state=43)\n",
    "    y_train = y_train.iloc[:,0].ravel()\n",
    "    y_test = y_test.iloc[:,0].ravel()\n",
    "\n",
    "    plt.figure(figsize=(10,7), dpi=100)\n",
    "    for i, x_feature in enumerate(['education_underachievements', 'health_estimate', 'culture', 'minimum_wage']):\n",
    "        plt.subplot(2, 2, i+1)\n",
    "        plt.scatter(X_train[x_feature], y_train, label='Training Set')\n",
    "        plt.scatter(X_test[x_feature], y_test, color='red', label='Testing Set')\n",
    "        plt.xlabel(x_feature)\n",
    "        plt.ylabel('happiness')\n",
    "        plt.legend()\n",
    "    return X_train, X_test, y_train, y_test"
   ]
  },
  {
   "cell_type": "code",
   "execution_count": 6,
   "metadata": {},
   "outputs": [],
   "source": [
    "# from sklearn.datasets import load_iris\n",
    "# iris = load_iris()\n",
    "# iris = pd.DataFrame(data= np.c_[iris['data'], iris['target']],\n",
    "#                      columns= iris['feature_names'] + ['target'])\n",
    "\n",
    "# X_train,X_test,y_train,y_test=train_test_split(iris.iloc[:,:4], iris.iloc[:,4], test_size=0.3)\n",
    "# X_train"
   ]
  },
  {
   "cell_type": "code",
   "execution_count": 111,
   "metadata": {},
   "outputs": [
    {
     "data": {
      "image/png": "[encoded data removed]",
      "text/plain": [
       "<Figure size 1000x700 with 4 Axes>"
      ]
     },
     "metadata": {
      "needs_background": "light"
     },
     "output_type": "display_data"
    }
   ],
   "source": [
    "X_train, X_test, y_train, y_test = split(df)"
   ]
  },
  {
   "cell_type": "code",
   "execution_count": 119,
   "metadata": {},
   "outputs": [],
   "source": [
    "def check_regressor(reg_model, graph=True, verbose=True, tree=False):\n",
    "    \n",
    "    reg_model.fit(X_train, y_train)\n",
    "    y_pred = reg_model.predict(X_test)\n",
    "    score = reg_model.score(X_test, y_test)\n",
    "    \n",
    "    if verbose:\n",
    "        print(reg_model.__class__.__name__, score)\n",
    "    \n",
    "    if graph:\n",
    "        x_feature = 'health_estimate'\n",
    "        plt.scatter(X_test[x_feature], y_test, color='red', label='Testing Set')\n",
    "        plt.scatter(X_test[x_feature], y_pred, color='black', label='Prediction')\n",
    "        plt.xlabel(x_feature)\n",
    "        plt.ylabel('happiness')\n",
    "        plt.legend()\n",
    "        \n",
    "    if tree:\n",
    "        print(reg_model.n_features_)\n",
    "        print(reg_model.feature_importances_)\n",
    "        print(reg_model.max_features_)\n",
    "        print(reg_model.n_outputs_)\n",
    "        \n",
    "    return score"
   ]
  },
  {
   "cell_type": "markdown",
   "metadata": {},
   "source": [
    "## Decision Tree Regressor"
   ]
  },
  {
   "cell_type": "code",
   "execution_count": 10,
   "metadata": {},
   "outputs": [],
   "source": [
    "from sklearn.tree import DecisionTreeRegressor"
   ]
  },
  {
   "cell_type": "code",
   "execution_count": 11,
   "metadata": {},
   "outputs": [
    {
     "name": "stdout",
     "output_type": "stream",
     "text": [
      "DecisionTreeRegressor -0.933819350794532\n",
      "8\n",
      "[0.05854489 0.26866444 0.61758336 0.01235152 0.00329326 0.\n",
      " 0.03956252 0.        ]\n",
      "8\n",
      "1\n"
     ]
    },
    {
     "data": {
      "text/plain": [
       "-0.933819350794532"
      ]
     },
     "execution_count": 11,
     "metadata": {},
     "output_type": "execute_result"
    },
    {
     "data": {
      "image/png": "[encoded data removed]",
      "text/plain": [
       "<Figure size 432x288 with 1 Axes>"
      ]
     },
     "metadata": {
      "needs_background": "light"
     },
     "output_type": "display_data"
    }
   ],
   "source": [
    "check_regressor(DecisionTreeRegressor(), tree=True)"
   ]
  },
  {
   "cell_type": "code",
   "execution_count": 12,
   "metadata": {},
   "outputs": [
    {
     "name": "stdout",
     "output_type": "stream",
     "text": [
      "MaxDepth=1: -0.6809233177855443\n",
      "MaxDepth=2: -1.2850876975179837\n",
      "MaxDepth=3: -1.239152907730782\n",
      "MaxDepth=4: -1.5530264991901193\n",
      "MaxDepth=5: -0.8994744906290164\n",
      "MaxDepth=6: -1.0655949374140246\n",
      "MaxDepth=7: -0.7867139644085146\n",
      "MaxDepth=8: -1.4588459989346085\n",
      "MaxDepth=9: -1.5514786536339802\n",
      "MaxDepth=10: -1.3712733316947252\n",
      "MaxDepth=11: -1.6802186704816204\n",
      "MaxDepth=12: -0.8161759772156401\n",
      "MaxDepth=13: -1.1371621461679626\n",
      "MaxDepth=14: -0.9703850128973617\n",
      "MaxDepth=15: -1.3907461852980583\n",
      "MaxDepth=16: -0.8923231820931621\n",
      "MaxDepth=17: -0.7525416959518856\n",
      "MaxDepth=18: -0.7317847125729562\n",
      "MaxDepth=19: -0.8657084133726767\n",
      "MaxDepth=20: -1.6921211207578555\n",
      "MaxDepth=21: -1.7256993790792032\n",
      "MaxDepth=22: -0.7708269742360674\n",
      "MaxDepth=23: -1.6062143516052336\n",
      "MaxDepth=24: -1.149010757323322\n",
      "MaxDepth=25: -1.7647937000575413\n",
      "MaxDepth=26: -1.396742350528807\n",
      "MaxDepth=27: -1.066599526464909\n",
      "MaxDepth=28: -0.8588913127864264\n",
      "MaxDepth=29: -1.6648856448173568\n"
     ]
    },
    {
     "data": {
      "text/plain": [
       "[<matplotlib.lines.Line2D at 0x7f231e4f0790>]"
      ]
     },
     "execution_count": 12,
     "metadata": {},
     "output_type": "execute_result"
    },
    {
     "data": {
      "image/png": "[encoded data removed]",
      "text/plain": [
       "<Figure size 432x288 with 1 Axes>"
      ]
     },
     "metadata": {
      "needs_background": "light"
     },
     "output_type": "display_data"
    }
   ],
   "source": [
    "mds = []\n",
    "for md in range(1, 30, 1):\n",
    "    tree_reg = DecisionTreeRegressor(max_depth=md)\n",
    "    s = check_regressor(tree_reg, graph=False, verbose=False)\n",
    "    mds.append(s)\n",
    "    print(f'MaxDepth={md}: {s}')\n",
    "plt.plot(list(range(1, 30)), mds)"
   ]
  },
  {
   "cell_type": "markdown",
   "metadata": {},
   "source": [
    "## Random Forest Regressor"
   ]
  },
  {
   "cell_type": "code",
   "execution_count": 13,
   "metadata": {},
   "outputs": [],
   "source": [
    "from sklearn.ensemble import RandomForestRegressor"
   ]
  },
  {
   "cell_type": "code",
   "execution_count": 14,
   "metadata": {},
   "outputs": [
    {
     "name": "stdout",
     "output_type": "stream",
     "text": [
      "RandomForestRegressor 0.07663012655311775\n"
     ]
    },
    {
     "data": {
      "text/plain": [
       "0.07663012655311775"
      ]
     },
     "execution_count": 14,
     "metadata": {},
     "output_type": "execute_result"
    },
    {
     "data": {
      "image/png": "[encoded data removed]",
      "text/plain": [
       "<Figure size 432x288 with 1 Axes>"
      ]
     },
     "metadata": {
      "needs_background": "light"
     },
     "output_type": "display_data"
    }
   ],
   "source": [
    "model = RandomForestRegressor(n_estimators=100, max_leaf_nodes=16)\n",
    "check_regressor(model)"
   ]
  },
  {
   "cell_type": "code",
   "execution_count": 15,
   "metadata": {},
   "outputs": [
    {
     "name": "stdout",
     "output_type": "stream",
     "text": [
      "MaxDepth=100: 0.17673544159519317\n",
      "MaxDepth=200: 0.12367473420617359\n",
      "MaxDepth=300: 0.10381883212620413\n",
      "MaxDepth=400: 0.13025781216510912\n",
      "MaxDepth=500: 0.0973366901734013\n",
      "MaxDepth=600: 0.16782855570598346\n",
      "MaxDepth=700: 0.14092732023315901\n",
      "MaxDepth=800: 0.12825332323660965\n",
      "MaxDepth=900: 0.15442610051651562\n",
      "MaxDepth=1000: 0.15492923221162935\n"
     ]
    }
   ],
   "source": [
    "# mds = []\n",
    "for ne in range(100, 1001, 100):\n",
    "    model = RandomForestRegressor(n_estimators=ne, max_leaf_nodes=16)\n",
    "    s = check_regressor(model, graph=False, verbose=False)\n",
    "    print(f'MaxDepth={ne}: {s}')\n",
    "# plt.plot(list(range(1, 30)), mds)"
   ]
  },
  {
   "cell_type": "markdown",
   "metadata": {},
   "source": [
    "## Ridge"
   ]
  },
  {
   "cell_type": "code",
   "execution_count": 16,
   "metadata": {},
   "outputs": [],
   "source": [
    "from sklearn.linear_model import Ridge\n",
    "from sklearn.preprocessing import PolynomialFeatures\n",
    "from sklearn.pipeline import Pipeline"
   ]
  },
  {
   "cell_type": "code",
   "execution_count": 94,
   "metadata": {},
   "outputs": [],
   "source": [
    "model = Pipeline([\n",
    "    ('poly_features', PolynomialFeatures(degree=2, include_bias=False)),\n",
    "    ('ridge_reg', Ridge())\n",
    "])"
   ]
  },
  {
   "cell_type": "code",
   "execution_count": 118,
   "metadata": {},
   "outputs": [
    {
     "name": "stdout",
     "output_type": "stream",
     "text": [
      "LinearRegression 0.10739500909433597\n"
     ]
    },
    {
     "data": {
      "text/plain": [
       "0.10739500909433597"
      ]
     },
     "execution_count": 118,
     "metadata": {},
     "output_type": "execute_result"
    },
    {
     "data": {
      "image/png": "[encoded data removed]",
      "text/plain": [
       "<Figure size 432x288 with 1 Axes>"
      ]
     },
     "metadata": {
      "needs_background": "light"
     },
     "output_type": "display_data"
    }
   ],
   "source": [
    "check_regressor(model)"
   ]
  },
  {
   "cell_type": "markdown",
   "metadata": {},
   "source": [
    "## Scaling"
   ]
  },
  {
   "cell_type": "code",
   "execution_count": 22,
   "metadata": {},
   "outputs": [
    {
     "data": {
      "text/html": [
       "<div>\n",
       "<style scoped>\n",
       "    .dataframe tbody tr th:only-of-type {\n",
       "        vertical-align: middle;\n",
       "    }\n",
       "\n",
       "    .dataframe tbody tr th {\n",
       "        vertical-align: top;\n",
       "    }\n",
       "\n",
       "    .dataframe thead th {\n",
       "        text-align: right;\n",
       "    }\n",
       "</style>\n",
       "<table border=\"1\" class=\"dataframe\">\n",
       "  <thead>\n",
       "    <tr style=\"text-align: right;\">\n",
       "      <th></th>\n",
       "      <th>country</th>\n",
       "      <th>population</th>\n",
       "      <th>happiness</th>\n",
       "      <th>bad_conditions</th>\n",
       "      <th>culture</th>\n",
       "      <th>health_estimate</th>\n",
       "      <th>commute</th>\n",
       "      <th>education_underachievements</th>\n",
       "      <th>minimum_wage</th>\n",
       "      <th>unmet_medical_needs</th>\n",
       "    </tr>\n",
       "  </thead>\n",
       "  <tbody>\n",
       "    <tr>\n",
       "      <th>0</th>\n",
       "      <td>Austria</td>\n",
       "      <td>8858775</td>\n",
       "      <td>39.7</td>\n",
       "      <td>10.4</td>\n",
       "      <td>18.40</td>\n",
       "      <td>71.4</td>\n",
       "      <td>39.6</td>\n",
       "      <td>21.69</td>\n",
       "      <td>1500.00</td>\n",
       "      <td>0.1</td>\n",
       "    </tr>\n",
       "    <tr>\n",
       "      <th>1</th>\n",
       "      <td>Belgium</td>\n",
       "      <td>11467923</td>\n",
       "      <td>21.2</td>\n",
       "      <td>18.0</td>\n",
       "      <td>20.55</td>\n",
       "      <td>74.5</td>\n",
       "      <td>48.2</td>\n",
       "      <td>19.80</td>\n",
       "      <td>1501.82</td>\n",
       "      <td>1.8</td>\n",
       "    </tr>\n",
       "    <tr>\n",
       "      <th>2</th>\n",
       "      <td>Bulgaria</td>\n",
       "      <td>7000039</td>\n",
       "      <td>9.5</td>\n",
       "      <td>13.0</td>\n",
       "      <td>6.68</td>\n",
       "      <td>66.4</td>\n",
       "      <td>33.4</td>\n",
       "      <td>40.46</td>\n",
       "      <td>184.07</td>\n",
       "      <td>1.9</td>\n",
       "    </tr>\n",
       "    <tr>\n",
       "      <th>3</th>\n",
       "      <td>Croatia</td>\n",
       "      <td>4076246</td>\n",
       "      <td>16.5</td>\n",
       "      <td>11.2</td>\n",
       "      <td>9.02</td>\n",
       "      <td>60.7</td>\n",
       "      <td>37.9</td>\n",
       "      <td>25.02</td>\n",
       "      <td>395.61</td>\n",
       "      <td>1.4</td>\n",
       "    </tr>\n",
       "    <tr>\n",
       "      <th>4</th>\n",
       "      <td>Cyprus</td>\n",
       "      <td>875898</td>\n",
       "      <td>22.4</td>\n",
       "      <td>30.2</td>\n",
       "      <td>8.85</td>\n",
       "      <td>76.3</td>\n",
       "      <td>22.4</td>\n",
       "      <td>39.97</td>\n",
       "      <td>870.00</td>\n",
       "      <td>1.4</td>\n",
       "    </tr>\n",
       "  </tbody>\n",
       "</table>\n",
       "</div>"
      ],
      "text/plain": [
       "    country  population  happiness  bad_conditions  culture  health_estimate  \\\n",
       "0   Austria     8858775       39.7            10.4    18.40             71.4   \n",
       "1   Belgium    11467923       21.2            18.0    20.55             74.5   \n",
       "2  Bulgaria     7000039        9.5            13.0     6.68             66.4   \n",
       "3   Croatia     4076246       16.5            11.2     9.02             60.7   \n",
       "4    Cyprus      875898       22.4            30.2     8.85             76.3   \n",
       "\n",
       "   commute  education_underachievements  minimum_wage  unmet_medical_needs  \n",
       "0     39.6                        21.69       1500.00                  0.1  \n",
       "1     48.2                        19.80       1501.82                  1.8  \n",
       "2     33.4                        40.46        184.07                  1.9  \n",
       "3     37.9                        25.02        395.61                  1.4  \n",
       "4     22.4                        39.97        870.00                  1.4  "
      ]
     },
     "execution_count": 22,
     "metadata": {},
     "output_type": "execute_result"
    }
   ],
   "source": [
    "df.head()"
   ]
  },
  {
   "cell_type": "code",
   "execution_count": 23,
   "metadata": {},
   "outputs": [],
   "source": [
    "from sklearn import preprocessing\n",
    "\n",
    "def skaluj(df):\n",
    "    cols_to_drop = ['country']\n",
    "    cols = [e for e in df.columns if e not in cols_to_drop]\n",
    "\n",
    "    x = df.drop(cols_to_drop, axis=1).values \n",
    "    min_max_scaler = preprocessing.MinMaxScaler()\n",
    "    x_scaled = min_max_scaler.fit_transform(x)\n",
    "    df_std = pd.DataFrame(x_scaled, columns=cols)\n",
    "    df_std.index = df['country']\n",
    "    print(df_std.shape)\n",
    "    return df_std"
   ]
  },
  {
   "cell_type": "code",
   "execution_count": 24,
   "metadata": {},
   "outputs": [
    {
     "name": "stdout",
     "output_type": "stream",
     "text": [
      "(33, 9)\n"
     ]
    }
   ],
   "source": [
    "df_std = skaluj(df)"
   ]
  },
  {
   "cell_type": "code",
   "execution_count": 25,
   "metadata": {},
   "outputs": [
    {
     "data": {
      "text/html": [
       "<div>\n",
       "<style scoped>\n",
       "    .dataframe tbody tr th:only-of-type {\n",
       "        vertical-align: middle;\n",
       "    }\n",
       "\n",
       "    .dataframe tbody tr th {\n",
       "        vertical-align: top;\n",
       "    }\n",
       "\n",
       "    .dataframe thead th {\n",
       "        text-align: right;\n",
       "    }\n",
       "</style>\n",
       "<table border=\"1\" class=\"dataframe\">\n",
       "  <thead>\n",
       "    <tr style=\"text-align: right;\">\n",
       "      <th></th>\n",
       "      <th>population</th>\n",
       "      <th>happiness</th>\n",
       "      <th>bad_conditions</th>\n",
       "      <th>culture</th>\n",
       "      <th>health_estimate</th>\n",
       "      <th>commute</th>\n",
       "      <th>education_underachievements</th>\n",
       "      <th>minimum_wage</th>\n",
       "      <th>unmet_medical_needs</th>\n",
       "    </tr>\n",
       "    <tr>\n",
       "      <th>country</th>\n",
       "      <th></th>\n",
       "      <th></th>\n",
       "      <th></th>\n",
       "      <th></th>\n",
       "      <th></th>\n",
       "      <th></th>\n",
       "      <th></th>\n",
       "      <th></th>\n",
       "      <th></th>\n",
       "    </tr>\n",
       "  </thead>\n",
       "  <tbody>\n",
       "    <tr>\n",
       "      <th>Austria</th>\n",
       "      <td>0.102850</td>\n",
       "      <td>0.901961</td>\n",
       "      <td>0.173134</td>\n",
       "      <td>0.529301</td>\n",
       "      <td>0.691139</td>\n",
       "      <td>0.571429</td>\n",
       "      <td>0.330564</td>\n",
       "      <td>0.436326</td>\n",
       "      <td>0.000000</td>\n",
       "    </tr>\n",
       "    <tr>\n",
       "      <th>Belgium</th>\n",
       "      <td>0.134414</td>\n",
       "      <td>0.383754</td>\n",
       "      <td>0.400000</td>\n",
       "      <td>0.610586</td>\n",
       "      <td>0.769620</td>\n",
       "      <td>0.857143</td>\n",
       "      <td>0.276425</td>\n",
       "      <td>0.436930</td>\n",
       "      <td>0.104294</td>\n",
       "    </tr>\n",
       "    <tr>\n",
       "      <th>Bulgaria</th>\n",
       "      <td>0.080364</td>\n",
       "      <td>0.056022</td>\n",
       "      <td>0.250746</td>\n",
       "      <td>0.086200</td>\n",
       "      <td>0.564557</td>\n",
       "      <td>0.365449</td>\n",
       "      <td>0.868233</td>\n",
       "      <td>0.000000</td>\n",
       "      <td>0.110429</td>\n",
       "    </tr>\n",
       "    <tr>\n",
       "      <th>Croatia</th>\n",
       "      <td>0.044993</td>\n",
       "      <td>0.252101</td>\n",
       "      <td>0.197015</td>\n",
       "      <td>0.174669</td>\n",
       "      <td>0.420253</td>\n",
       "      <td>0.514950</td>\n",
       "      <td>0.425952</td>\n",
       "      <td>0.070141</td>\n",
       "      <td>0.079755</td>\n",
       "    </tr>\n",
       "    <tr>\n",
       "      <th>Cyprus</th>\n",
       "      <td>0.006277</td>\n",
       "      <td>0.417367</td>\n",
       "      <td>0.764179</td>\n",
       "      <td>0.168242</td>\n",
       "      <td>0.815190</td>\n",
       "      <td>0.000000</td>\n",
       "      <td>0.854197</td>\n",
       "      <td>0.227436</td>\n",
       "      <td>0.079755</td>\n",
       "    </tr>\n",
       "  </tbody>\n",
       "</table>\n",
       "</div>"
      ],
      "text/plain": [
       "          population  happiness  bad_conditions   culture  health_estimate  \\\n",
       "country                                                                      \n",
       "Austria     0.102850   0.901961        0.173134  0.529301         0.691139   \n",
       "Belgium     0.134414   0.383754        0.400000  0.610586         0.769620   \n",
       "Bulgaria    0.080364   0.056022        0.250746  0.086200         0.564557   \n",
       "Croatia     0.044993   0.252101        0.197015  0.174669         0.420253   \n",
       "Cyprus      0.006277   0.417367        0.764179  0.168242         0.815190   \n",
       "\n",
       "           commute  education_underachievements  minimum_wage  \\\n",
       "country                                                         \n",
       "Austria   0.571429                     0.330564      0.436326   \n",
       "Belgium   0.857143                     0.276425      0.436930   \n",
       "Bulgaria  0.365449                     0.868233      0.000000   \n",
       "Croatia   0.514950                     0.425952      0.070141   \n",
       "Cyprus    0.000000                     0.854197      0.227436   \n",
       "\n",
       "          unmet_medical_needs  \n",
       "country                        \n",
       "Austria              0.000000  \n",
       "Belgium              0.104294  \n",
       "Bulgaria             0.110429  \n",
       "Croatia              0.079755  \n",
       "Cyprus               0.079755  "
      ]
     },
     "execution_count": 25,
     "metadata": {},
     "output_type": "execute_result"
    }
   ],
   "source": [
    "df_std.head()"
   ]
  },
  {
   "cell_type": "code",
   "execution_count": 112,
   "metadata": {},
   "outputs": [
    {
     "data": {
      "image/png": "[encoded data removed]",
      "text/plain": [
       "<Figure size 1000x700 with 4 Axes>"
      ]
     },
     "metadata": {
      "needs_background": "light"
     },
     "output_type": "display_data"
    }
   ],
   "source": [
    "X_train, X_test, y_train, y_test = split(df_std)"
   ]
  },
  {
   "cell_type": "markdown",
   "metadata": {},
   "source": [
    "## Polynomial Regression"
   ]
  },
  {
   "cell_type": "code",
   "execution_count": 96,
   "metadata": {},
   "outputs": [],
   "source": [
    "from sklearn.preprocessing import PolynomialFeatures\n",
    "from sklearn.linear_model import LinearRegression"
   ]
  },
  {
   "cell_type": "code",
   "execution_count": null,
   "metadata": {},
   "outputs": [],
   "source": []
  },
  {
   "cell_type": "code",
   "execution_count": 137,
   "metadata": {},
   "outputs": [
    {
     "data": {
      "text/html": [
       "<div>\n",
       "<style scoped>\n",
       "    .dataframe tbody tr th:only-of-type {\n",
       "        vertical-align: middle;\n",
       "    }\n",
       "\n",
       "    .dataframe tbody tr th {\n",
       "        vertical-align: top;\n",
       "    }\n",
       "\n",
       "    .dataframe thead th {\n",
       "        text-align: right;\n",
       "    }\n",
       "</style>\n",
       "<table border=\"1\" class=\"dataframe\">\n",
       "  <thead>\n",
       "    <tr style=\"text-align: right;\">\n",
       "      <th></th>\n",
       "      <th>population</th>\n",
       "      <th>bad_conditions</th>\n",
       "      <th>culture</th>\n",
       "      <th>health_estimate</th>\n",
       "      <th>commute</th>\n",
       "      <th>education_underachievements</th>\n",
       "      <th>minimum_wage</th>\n",
       "      <th>unmet_medical_needs</th>\n",
       "    </tr>\n",
       "    <tr>\n",
       "      <th>country</th>\n",
       "      <th></th>\n",
       "      <th></th>\n",
       "      <th></th>\n",
       "      <th></th>\n",
       "      <th></th>\n",
       "      <th></th>\n",
       "      <th></th>\n",
       "      <th></th>\n",
       "    </tr>\n",
       "  </thead>\n",
       "  <tbody>\n",
       "    <tr>\n",
       "      <th>Serbia</th>\n",
       "      <td>0.079925</td>\n",
       "      <td>0.358209</td>\n",
       "      <td>0.116446</td>\n",
       "      <td>0.311392</td>\n",
       "      <td>0.597342</td>\n",
       "      <td>0.728731</td>\n",
       "      <td>0.016900</td>\n",
       "      <td>0.349693</td>\n",
       "    </tr>\n",
       "    <tr>\n",
       "      <th>United Kingdom</th>\n",
       "      <td>0.801940</td>\n",
       "      <td>0.391045</td>\n",
       "      <td>0.567108</td>\n",
       "      <td>0.670886</td>\n",
       "      <td>1.000000</td>\n",
       "      <td>0.252363</td>\n",
       "      <td>0.396163</td>\n",
       "      <td>0.269939</td>\n",
       "    </tr>\n",
       "    <tr>\n",
       "      <th>Czechia</th>\n",
       "      <td>0.124516</td>\n",
       "      <td>0.092537</td>\n",
       "      <td>0.482042</td>\n",
       "      <td>0.443038</td>\n",
       "      <td>0.441860</td>\n",
       "      <td>0.323976</td>\n",
       "      <td>0.048953</td>\n",
       "      <td>0.012270</td>\n",
       "    </tr>\n",
       "    <tr>\n",
       "      <th>Sweden</th>\n",
       "      <td>0.119440</td>\n",
       "      <td>0.095522</td>\n",
       "      <td>0.673724</td>\n",
       "      <td>0.792405</td>\n",
       "      <td>0.916944</td>\n",
       "      <td>0.288456</td>\n",
       "      <td>0.628639</td>\n",
       "      <td>0.085890</td>\n",
       "    </tr>\n",
       "    <tr>\n",
       "      <th>Slovenia</th>\n",
       "      <td>0.020855</td>\n",
       "      <td>0.540299</td>\n",
       "      <td>0.604915</td>\n",
       "      <td>0.531646</td>\n",
       "      <td>0.581395</td>\n",
       "      <td>0.150100</td>\n",
       "      <td>0.201152</td>\n",
       "      <td>0.196319</td>\n",
       "    </tr>\n",
       "  </tbody>\n",
       "</table>\n",
       "</div>"
      ],
      "text/plain": [
       "                population  bad_conditions   culture  health_estimate  \\\n",
       "country                                                                 \n",
       "Serbia            0.079925        0.358209  0.116446         0.311392   \n",
       "United Kingdom    0.801940        0.391045  0.567108         0.670886   \n",
       "Czechia           0.124516        0.092537  0.482042         0.443038   \n",
       "Sweden            0.119440        0.095522  0.673724         0.792405   \n",
       "Slovenia          0.020855        0.540299  0.604915         0.531646   \n",
       "\n",
       "                 commute  education_underachievements  minimum_wage  \\\n",
       "country                                                               \n",
       "Serbia          0.597342                     0.728731      0.016900   \n",
       "United Kingdom  1.000000                     0.252363      0.396163   \n",
       "Czechia         0.441860                     0.323976      0.048953   \n",
       "Sweden          0.916944                     0.288456      0.628639   \n",
       "Slovenia        0.581395                     0.150100      0.201152   \n",
       "\n",
       "                unmet_medical_needs  \n",
       "country                              \n",
       "Serbia                     0.349693  \n",
       "United Kingdom             0.269939  \n",
       "Czechia                    0.012270  \n",
       "Sweden                     0.085890  \n",
       "Slovenia                   0.196319  "
      ]
     },
     "execution_count": 137,
     "metadata": {},
     "output_type": "execute_result"
    }
   ],
   "source": [
    "X_train.head()"
   ]
  },
  {
   "cell_type": "code",
   "execution_count": 200,
   "metadata": {},
   "outputs": [],
   "source": [
    "def produce_matrix(dataframe, n):\n",
    "    d = dataframe.copy()\n",
    "    d_col = d.columns\n",
    "    for st in range(2, n+1):\n",
    "        for fea in d_col:\n",
    "            d[f'{fea}^{st}'] = d[fea]**st\n",
    "    d.insert(0, 'intercept', 1.0)\n",
    "    return d"
   ]
  },
  {
   "cell_type": "code",
   "execution_count": 205,
   "metadata": {},
   "outputs": [
    {
     "data": {
      "text/plain": [
       "<matplotlib.collections.PathCollection at 0x7f231c351610>"
      ]
     },
     "execution_count": 205,
     "metadata": {},
     "output_type": "execute_result"
    },
    {
     "data": {
      "image/png": "[encoded data removed]",
      "text/plain": [
       "<Figure size 432x288 with 1 Axes>"
      ]
     },
     "metadata": {
      "needs_background": "light"
     },
     "output_type": "display_data"
    }
   ],
   "source": [
    "s = 7\n",
    "# X_train_pow = produce_matrix(X_train, stopen)\n",
    "# X_test_pow = produce_matrix(X_test, stopen)\n",
    "\n",
    "# a = produce_matrix(pd.DataFrame(X_train['education_underachievements']), 2)\n",
    "# b = produce_matrix(pd.DataFrame(X_test['education_underachievements']), 2)\n",
    "\n",
    "a = pd.DataFrame(X_train['education_underachievements'])\n",
    "a = produce_matrix(a, s)\n",
    "a\n",
    "\n",
    "\n",
    "b = pd.DataFrame(X_test['education_underachievements'])\n",
    "b = produce_matrix(b, s)\n",
    "b\n",
    "\n",
    "# X_train_pow = np.array(a).reshape(-1,1)\n",
    "# X_test_pow = np.array(b).reshape(-1,1)\n",
    "\n",
    "# X_test_pow\n",
    "# b\n",
    "model = LinearRegression()\n",
    "model.fit(a, y_train)\n",
    "y_pred = model.predict(b)\n",
    "\n",
    "plt.scatter(X_test['education_underachievements'], y_test, color='red')\n",
    "plt.scatter(X_test['education_underachievements'], y_pred, color='black')\n",
    "\n",
    "# model.score(X_test_pow, y_test)\n",
    "# y_pred"
   ]
  },
  {
   "cell_type": "code",
   "execution_count": null,
   "metadata": {},
   "outputs": [],
   "source": []
  },
  {
   "cell_type": "code",
   "execution_count": 127,
   "metadata": {},
   "outputs": [],
   "source": []
  },
  {
   "cell_type": "code",
   "execution_count": null,
   "metadata": {},
   "outputs": [],
   "source": []
  },
  {
   "cell_type": "code",
   "execution_count": 145,
   "metadata": {},
   "outputs": [
    {
     "data": {
      "text/plain": [
       "LinearRegression(copy_X=True, fit_intercept=True, n_jobs=None, normalize=False)"
      ]
     },
     "execution_count": 145,
     "metadata": {},
     "output_type": "execute_result"
    }
   ],
   "source": []
  },
  {
   "cell_type": "code",
   "execution_count": 147,
   "metadata": {},
   "outputs": [],
   "source": []
  },
  {
   "cell_type": "code",
   "execution_count": 148,
   "metadata": {},
   "outputs": [
    {
     "data": {
      "text/plain": [
       "<matplotlib.collections.PathCollection at 0x7f231c4a8f10>"
      ]
     },
     "execution_count": 148,
     "metadata": {},
     "output_type": "execute_result"
    },
    {
     "data": {
      "image/png": "[encoded data removed]",
      "text/plain": [
       "<Figure size 432x288 with 1 Axes>"
      ]
     },
     "metadata": {
      "needs_background": "light"
     },
     "output_type": "display_data"
    }
   ],
   "source": []
  },
  {
   "cell_type": "code",
   "execution_count": 152,
   "metadata": {},
   "outputs": [
    {
     "data": {
      "text/plain": [
       "-28.10958459775376"
      ]
     },
     "execution_count": 152,
     "metadata": {},
     "output_type": "execute_result"
    }
   ],
   "source": []
  },
  {
   "cell_type": "code",
   "execution_count": null,
   "metadata": {},
   "outputs": [],
   "source": []
  },
  {
   "cell_type": "code",
   "execution_count": 38,
   "metadata": {},
   "outputs": [],
   "source": [
    "poly = PolynomialFeatures(degree=2)"
   ]
  },
  {
   "cell_type": "code",
   "execution_count": 43,
   "metadata": {},
   "outputs": [],
   "source": [
    "X_train_ = poly.fit_transform(X_train)\n",
    "X_test_ = poly.fit_transform(X_test)"
   ]
  },
  {
   "cell_type": "code",
   "execution_count": 54,
   "metadata": {},
   "outputs": [
    {
     "data": {
      "text/plain": [
       "array([ 0.59554288,  0.48592158,  1.14990627,  0.62650093,  0.30636154,\n",
       "        0.74642572,  0.86468367,  0.87158745, -0.23664932,  0.53148327])"
      ]
     },
     "execution_count": 54,
     "metadata": {},
     "output_type": "execute_result"
    }
   ],
   "source": [
    "model = LinearRegression()\n",
    "model.fit(X_train_, y_train)\n",
    "y_pred = model.predict(X_test_)\n",
    "y_pred"
   ]
  },
  {
   "cell_type": "code",
   "execution_count": 117,
   "metadata": {},
   "outputs": [
    {
     "data": {
      "text/plain": [
       "<matplotlib.legend.Legend at 0x7f232085e890>"
      ]
     },
     "execution_count": 117,
     "metadata": {},
     "output_type": "execute_result"
    },
    {
     "data": {
      "image/png": "[encoded data removed]",
      "text/plain": [
       "<Figure size 432x288 with 1 Axes>"
      ]
     },
     "metadata": {
      "needs_background": "light"
     },
     "output_type": "display_data"
    }
   ],
   "source": [
    "x_feature = 'health_estimate'\n",
    "plt.scatter(X_test[x_feature], y_test, color='red', label='Testing Set')\n",
    "plt.scatter(X_test[x_feature], y_pred, color='black', label='Prediction')\n",
    "plt.xlabel(x_feature)\n",
    "plt.ylabel('happiness')\n",
    "plt.legend()"
   ]
  },
  {
   "cell_type": "code",
   "execution_count": 65,
   "metadata": {},
   "outputs": [
    {
     "data": {
      "text/html": [
       "<div>\n",
       "<style scoped>\n",
       "    .dataframe tbody tr th:only-of-type {\n",
       "        vertical-align: middle;\n",
       "    }\n",
       "\n",
       "    .dataframe tbody tr th {\n",
       "        vertical-align: top;\n",
       "    }\n",
       "\n",
       "    .dataframe thead th {\n",
       "        text-align: right;\n",
       "    }\n",
       "</style>\n",
       "<table border=\"1\" class=\"dataframe\">\n",
       "  <thead>\n",
       "    <tr style=\"text-align: right;\">\n",
       "      <th></th>\n",
       "      <th>population</th>\n",
       "      <th>bad_conditions</th>\n",
       "      <th>culture</th>\n",
       "      <th>health_estimate</th>\n",
       "      <th>commute</th>\n",
       "      <th>education_underachievements</th>\n",
       "      <th>minimum_wage</th>\n",
       "      <th>unmet_medical_needs</th>\n",
       "    </tr>\n",
       "    <tr>\n",
       "      <th>country</th>\n",
       "      <th></th>\n",
       "      <th></th>\n",
       "      <th></th>\n",
       "      <th></th>\n",
       "      <th></th>\n",
       "      <th></th>\n",
       "      <th></th>\n",
       "      <th></th>\n",
       "    </tr>\n",
       "  </thead>\n",
       "  <tbody>\n",
       "    <tr>\n",
       "      <th>Serbia</th>\n",
       "      <td>0.079925</td>\n",
       "      <td>0.358209</td>\n",
       "      <td>0.116446</td>\n",
       "      <td>0.311392</td>\n",
       "      <td>0.597342</td>\n",
       "      <td>0.728731</td>\n",
       "      <td>0.016900</td>\n",
       "      <td>0.349693</td>\n",
       "    </tr>\n",
       "    <tr>\n",
       "      <th>United Kingdom</th>\n",
       "      <td>0.801940</td>\n",
       "      <td>0.391045</td>\n",
       "      <td>0.567108</td>\n",
       "      <td>0.670886</td>\n",
       "      <td>1.000000</td>\n",
       "      <td>0.252363</td>\n",
       "      <td>0.396163</td>\n",
       "      <td>0.269939</td>\n",
       "    </tr>\n",
       "    <tr>\n",
       "      <th>Czechia</th>\n",
       "      <td>0.124516</td>\n",
       "      <td>0.092537</td>\n",
       "      <td>0.482042</td>\n",
       "      <td>0.443038</td>\n",
       "      <td>0.441860</td>\n",
       "      <td>0.323976</td>\n",
       "      <td>0.048953</td>\n",
       "      <td>0.012270</td>\n",
       "    </tr>\n",
       "    <tr>\n",
       "      <th>Sweden</th>\n",
       "      <td>0.119440</td>\n",
       "      <td>0.095522</td>\n",
       "      <td>0.673724</td>\n",
       "      <td>0.792405</td>\n",
       "      <td>0.916944</td>\n",
       "      <td>0.288456</td>\n",
       "      <td>0.628639</td>\n",
       "      <td>0.085890</td>\n",
       "    </tr>\n",
       "    <tr>\n",
       "      <th>Slovenia</th>\n",
       "      <td>0.020855</td>\n",
       "      <td>0.540299</td>\n",
       "      <td>0.604915</td>\n",
       "      <td>0.531646</td>\n",
       "      <td>0.581395</td>\n",
       "      <td>0.150100</td>\n",
       "      <td>0.201152</td>\n",
       "      <td>0.196319</td>\n",
       "    </tr>\n",
       "  </tbody>\n",
       "</table>\n",
       "</div>"
      ],
      "text/plain": [
       "                population  bad_conditions   culture  health_estimate  \\\n",
       "country                                                                 \n",
       "Serbia            0.079925        0.358209  0.116446         0.311392   \n",
       "United Kingdom    0.801940        0.391045  0.567108         0.670886   \n",
       "Czechia           0.124516        0.092537  0.482042         0.443038   \n",
       "Sweden            0.119440        0.095522  0.673724         0.792405   \n",
       "Slovenia          0.020855        0.540299  0.604915         0.531646   \n",
       "\n",
       "                 commute  education_underachievements  minimum_wage  \\\n",
       "country                                                               \n",
       "Serbia          0.597342                     0.728731      0.016900   \n",
       "United Kingdom  1.000000                     0.252363      0.396163   \n",
       "Czechia         0.441860                     0.323976      0.048953   \n",
       "Sweden          0.916944                     0.288456      0.628639   \n",
       "Slovenia        0.581395                     0.150100      0.201152   \n",
       "\n",
       "                unmet_medical_needs  \n",
       "country                              \n",
       "Serbia                     0.349693  \n",
       "United Kingdom             0.269939  \n",
       "Czechia                    0.012270  \n",
       "Sweden                     0.085890  \n",
       "Slovenia                   0.196319  "
      ]
     },
     "execution_count": 65,
     "metadata": {},
     "output_type": "execute_result"
    }
   ],
   "source": [
    "X_train.head()\n",
    "# df[features]"
   ]
  },
  {
   "cell_type": "markdown",
   "metadata": {},
   "source": [
    "## Normal Equation"
   ]
  },
  {
   "cell_type": "code",
   "execution_count": 64,
   "metadata": {},
   "outputs": [],
   "source": [
    "def model_train(X, y):\n",
    "    \n",
    "    model = np.dot(np.linalg.pinv(X), y)\n",
    "    \n",
    "    return model.reshape(len(model), 1)"
   ]
  },
  {
   "cell_type": "code",
   "execution_count": 76,
   "metadata": {},
   "outputs": [
    {
     "data": {
      "text/plain": [
       "array([[-0.05237643],\n",
       "       [-0.2366173 ],\n",
       "       [ 0.43085839],\n",
       "       [ 0.48792411],\n",
       "       [ 0.18403673],\n",
       "       [-0.03690217],\n",
       "       [ 0.05219468],\n",
       "       [-0.18680639]])"
      ]
     },
     "execution_count": 76,
     "metadata": {},
     "output_type": "execute_result"
    }
   ],
   "source": [
    "model = model_train(X_train, y_train)\n",
    "model"
   ]
  },
  {
   "cell_type": "code",
   "execution_count": 75,
   "metadata": {},
   "outputs": [],
   "source": [
    "p = np.poly1d(model.reshape(8))"
   ]
  },
  {
   "cell_type": "code",
   "execution_count": 78,
   "metadata": {},
   "outputs": [
    {
     "data": {
      "text/plain": [
       "0.9888320607531292"
      ]
     },
     "execution_count": 78,
     "metadata": {},
     "output_type": "execute_result"
    }
   ],
   "source": []
  },
  {
   "cell_type": "code",
   "execution_count": 69,
   "metadata": {},
   "outputs": [
    {
     "ename": "ValueError",
     "evalue": "shapes (8,1) and (10,8) not aligned: 1 (dim 1) != 10 (dim 0)",
     "output_type": "error",
     "traceback": [
      "\u001b[0;31m---------------------------------------------------------------------------\u001b[0m",
      "\u001b[0;31mValueError\u001b[0m                                Traceback (most recent call last)",
      "\u001b[0;32m<ipython-input-69-c2d68239f7fc>\u001b[0m in \u001b[0;36m<module>\u001b[0;34m\u001b[0m\n\u001b[0;32m----> 1\u001b[0;31m \u001b[0mnp\u001b[0m\u001b[0;34m.\u001b[0m\u001b[0mdot\u001b[0m\u001b[0;34m(\u001b[0m\u001b[0mmodel\u001b[0m\u001b[0;34m,\u001b[0m \u001b[0mX_test\u001b[0m\u001b[0;34m)\u001b[0m\u001b[0;34m\u001b[0m\u001b[0;34m\u001b[0m\u001b[0m\n\u001b[0m",
      "\u001b[0;32m<__array_function__ internals>\u001b[0m in \u001b[0;36mdot\u001b[0;34m(*args, **kwargs)\u001b[0m\n",
      "\u001b[0;31mValueError\u001b[0m: shapes (8,1) and (10,8) not aligned: 1 (dim 1) != 10 (dim 0)"
     ]
    }
   ],
   "source": [
    "np.dot(model, X_test)"
   ]
  },
  {
   "cell_type": "code",
   "execution_count": null,
   "metadata": {},
   "outputs": [],
   "source": []
  },
  {
   "cell_type": "code",
   "execution_count": null,
   "metadata": {},
   "outputs": [],
   "source": []
  },
  {
   "cell_type": "code",
   "execution_count": null,
   "metadata": {},
   "outputs": [],
   "source": []
  },
  {
   "cell_type": "code",
   "execution_count": null,
   "metadata": {},
   "outputs": [],
   "source": []
  }
 ],
 "metadata": {
  "kernelspec": {
   "display_name": "Python 3",
   "language": "python",
   "name": "python3"
  },
  "language_info": {
   "codemirror_mode": {
    "name": "ipython",
    "version": 3
   },
   "file_extension": ".py",
   "mimetype": "text/x-python",
   "name": "python",
   "nbconvert_exporter": "python",
   "pygments_lexer": "ipython3",
   "version": "3.7.4"
  }
 },
 "nbformat": 4,
 "nbformat_minor": 2
}
