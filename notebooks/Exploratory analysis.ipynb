{
 "cells": [
  {
   "cell_type": "markdown",
   "metadata": {},
   "source": [
    "# Analiza eksploracyjna"
   ]
  },
  {
   "cell_type": "markdown",
   "metadata": {},
   "source": [
    "09.01.2020\n",
    "<br>\n",
    "Aleksei Haidukevich, Joanna Smolska"
   ]
  },
  {
   "cell_type": "markdown",
   "metadata": {},
   "source": [
    "Wczytanie niezbędnych pakietów."
   ]
  },
  {
   "cell_type": "code",
   "execution_count": 8,
   "metadata": {},
   "outputs": [],
   "source": [
    "import pandas as pd\n",
    "import seaborn as sns\n",
    "import matplotlib.pyplot as plt"
   ]
  },
  {
   "cell_type": "markdown",
   "metadata": {},
   "source": [
    "Wczytanie danych i wyświetlenie pierwszych pięciu wierszy."
   ]
  },
  {
   "cell_type": "code",
   "execution_count": 21,
   "metadata": {},
   "outputs": [
    {
     "data": {
      "text/html": [
       "<div>\n",
       "<style scoped>\n",
       "    .dataframe tbody tr th:only-of-type {\n",
       "        vertical-align: middle;\n",
       "    }\n",
       "\n",
       "    .dataframe tbody tr th {\n",
       "        vertical-align: top;\n",
       "    }\n",
       "\n",
       "    .dataframe thead th {\n",
       "        text-align: right;\n",
       "    }\n",
       "</style>\n",
       "<table border=\"1\" class=\"dataframe\">\n",
       "  <thead>\n",
       "    <tr style=\"text-align: right;\">\n",
       "      <th></th>\n",
       "      <th>country</th>\n",
       "      <th>population</th>\n",
       "      <th>happiness</th>\n",
       "      <th>bad_conditions</th>\n",
       "      <th>culture</th>\n",
       "      <th>health_estimate</th>\n",
       "      <th>commute</th>\n",
       "      <th>education_underachievements</th>\n",
       "      <th>minimum_wage</th>\n",
       "      <th>unmet_medical_needs</th>\n",
       "    </tr>\n",
       "  </thead>\n",
       "  <tbody>\n",
       "    <tr>\n",
       "      <th>0</th>\n",
       "      <td>Austria</td>\n",
       "      <td>8858775</td>\n",
       "      <td>39.7</td>\n",
       "      <td>10.4</td>\n",
       "      <td>18.40</td>\n",
       "      <td>71.4</td>\n",
       "      <td>39.6</td>\n",
       "      <td>21.688730</td>\n",
       "      <td>1500.00</td>\n",
       "      <td>0.1</td>\n",
       "    </tr>\n",
       "    <tr>\n",
       "      <th>1</th>\n",
       "      <td>Belgium</td>\n",
       "      <td>11467923</td>\n",
       "      <td>21.2</td>\n",
       "      <td>18.0</td>\n",
       "      <td>20.55</td>\n",
       "      <td>74.5</td>\n",
       "      <td>48.2</td>\n",
       "      <td>19.798485</td>\n",
       "      <td>1501.82</td>\n",
       "      <td>1.8</td>\n",
       "    </tr>\n",
       "    <tr>\n",
       "      <th>2</th>\n",
       "      <td>Bulgaria</td>\n",
       "      <td>7000039</td>\n",
       "      <td>9.5</td>\n",
       "      <td>13.0</td>\n",
       "      <td>6.68</td>\n",
       "      <td>66.4</td>\n",
       "      <td>33.4</td>\n",
       "      <td>40.456639</td>\n",
       "      <td>184.07</td>\n",
       "      <td>1.9</td>\n",
       "    </tr>\n",
       "    <tr>\n",
       "      <th>3</th>\n",
       "      <td>Croatia</td>\n",
       "      <td>4076246</td>\n",
       "      <td>16.5</td>\n",
       "      <td>11.2</td>\n",
       "      <td>9.02</td>\n",
       "      <td>60.7</td>\n",
       "      <td>37.9</td>\n",
       "      <td>25.021464</td>\n",
       "      <td>395.61</td>\n",
       "      <td>1.4</td>\n",
       "    </tr>\n",
       "    <tr>\n",
       "      <th>4</th>\n",
       "      <td>Cyprus</td>\n",
       "      <td>875898</td>\n",
       "      <td>22.4</td>\n",
       "      <td>30.2</td>\n",
       "      <td>8.85</td>\n",
       "      <td>76.3</td>\n",
       "      <td>22.4</td>\n",
       "      <td>39.968136</td>\n",
       "      <td>870.00</td>\n",
       "      <td>1.4</td>\n",
       "    </tr>\n",
       "  </tbody>\n",
       "</table>\n",
       "</div>"
      ],
      "text/plain": [
       "    country  population  happiness  bad_conditions  culture  health_estimate  \\\n",
       "0   Austria     8858775       39.7            10.4    18.40             71.4   \n",
       "1   Belgium    11467923       21.2            18.0    20.55             74.5   \n",
       "2  Bulgaria     7000039        9.5            13.0     6.68             66.4   \n",
       "3   Croatia     4076246       16.5            11.2     9.02             60.7   \n",
       "4    Cyprus      875898       22.4            30.2     8.85             76.3   \n",
       "\n",
       "   commute  education_underachievements  minimum_wage  unmet_medical_needs  \n",
       "0     39.6                    21.688730       1500.00                  0.1  \n",
       "1     48.2                    19.798485       1501.82                  1.8  \n",
       "2     33.4                    40.456639        184.07                  1.9  \n",
       "3     37.9                    25.021464        395.61                  1.4  \n",
       "4     22.4                    39.968136        870.00                  1.4  "
      ]
     },
     "execution_count": 21,
     "metadata": {},
     "output_type": "execute_result"
    }
   ],
   "source": [
    "df = pd.read_excel('../data/main.xlsx', header=0)\n",
    "df.head(5)"
   ]
  },
  {
   "cell_type": "markdown",
   "metadata": {},
   "source": [
    "## Podstawowe informacje i miary dla analizowanych danych:"
   ]
  },
  {
   "cell_type": "code",
   "execution_count": 5,
   "metadata": {},
   "outputs": [
    {
     "name": "stdout",
     "output_type": "stream",
     "text": [
      "<class 'pandas.core.frame.DataFrame'>\n",
      "RangeIndex: 33 entries, 0 to 32\n",
      "Data columns (total 10 columns):\n",
      "country                        33 non-null object\n",
      "population                     33 non-null int64\n",
      "happiness                      33 non-null float64\n",
      "bad_conditions                 33 non-null float64\n",
      "culture                        32 non-null float64\n",
      "health_estimate                33 non-null float64\n",
      "commute                        28 non-null float64\n",
      "education_underachievements    33 non-null float64\n",
      "minimum_wage                   33 non-null float64\n",
      "unmet_medical_needs            33 non-null float64\n",
      "dtypes: float64(8), int64(1), object(1)\n",
      "memory usage: 2.7+ KB\n"
     ]
    }
   ],
   "source": [
    "df.info()"
   ]
  },
  {
   "cell_type": "code",
   "execution_count": 15,
   "metadata": {},
   "outputs": [
    {
     "data": {
      "text/html": [
       "<div>\n",
       "<style scoped>\n",
       "    .dataframe tbody tr th:only-of-type {\n",
       "        vertical-align: middle;\n",
       "    }\n",
       "\n",
       "    .dataframe tbody tr th {\n",
       "        vertical-align: top;\n",
       "    }\n",
       "\n",
       "    .dataframe thead th {\n",
       "        text-align: right;\n",
       "    }\n",
       "</style>\n",
       "<table border=\"1\" class=\"dataframe\">\n",
       "  <thead>\n",
       "    <tr style=\"text-align: right;\">\n",
       "      <th></th>\n",
       "      <th>population</th>\n",
       "      <th>happiness</th>\n",
       "      <th>bad_conditions</th>\n",
       "      <th>culture</th>\n",
       "      <th>health_estimate</th>\n",
       "      <th>commute</th>\n",
       "      <th>education_underachievements</th>\n",
       "      <th>minimum_wage</th>\n",
       "      <th>unmet_medical_needs</th>\n",
       "    </tr>\n",
       "  </thead>\n",
       "  <tbody>\n",
       "    <tr>\n",
       "      <th>count</th>\n",
       "      <td>3.300000e+01</td>\n",
       "      <td>33.000000</td>\n",
       "      <td>33.000000</td>\n",
       "      <td>32.000000</td>\n",
       "      <td>33.000000</td>\n",
       "      <td>28.000000</td>\n",
       "      <td>33.000000</td>\n",
       "      <td>33.000000</td>\n",
       "      <td>33.000000</td>\n",
       "    </tr>\n",
       "    <tr>\n",
       "      <th>mean</th>\n",
       "      <td>1.868718e+07</td>\n",
       "      <td>25.690909</td>\n",
       "      <td>15.118182</td>\n",
       "      <td>15.846875</td>\n",
       "      <td>67.596970</td>\n",
       "      <td>40.378571</td>\n",
       "      <td>23.497954</td>\n",
       "      <td>956.064242</td>\n",
       "      <td>2.742424</td>\n",
       "    </tr>\n",
       "    <tr>\n",
       "      <th>std</th>\n",
       "      <td>2.505448e+07</td>\n",
       "      <td>10.182472</td>\n",
       "      <td>7.310030</td>\n",
       "      <td>7.159469</td>\n",
       "      <td>9.260551</td>\n",
       "      <td>7.763846</td>\n",
       "      <td>8.852588</td>\n",
       "      <td>804.847817</td>\n",
       "      <td>3.190320</td>\n",
       "    </tr>\n",
       "    <tr>\n",
       "      <th>min</th>\n",
       "      <td>3.569910e+05</td>\n",
       "      <td>7.500000</td>\n",
       "      <td>4.600000</td>\n",
       "      <td>4.400000</td>\n",
       "      <td>44.100000</td>\n",
       "      <td>22.400000</td>\n",
       "      <td>10.146950</td>\n",
       "      <td>0.000000</td>\n",
       "      <td>0.100000</td>\n",
       "    </tr>\n",
       "    <tr>\n",
       "      <th>25%</th>\n",
       "      <td>4.076246e+06</td>\n",
       "      <td>18.000000</td>\n",
       "      <td>10.400000</td>\n",
       "      <td>9.245000</td>\n",
       "      <td>61.600000</td>\n",
       "      <td>35.375000</td>\n",
       "      <td>17.749614</td>\n",
       "      <td>360.000000</td>\n",
       "      <td>0.800000</td>\n",
       "    </tr>\n",
       "    <tr>\n",
       "      <th>50%</th>\n",
       "      <td>8.542323e+06</td>\n",
       "      <td>24.600000</td>\n",
       "      <td>13.400000</td>\n",
       "      <td>16.010000</td>\n",
       "      <td>68.700000</td>\n",
       "      <td>41.250000</td>\n",
       "      <td>21.459401</td>\n",
       "      <td>720.460000</td>\n",
       "      <td>1.900000</td>\n",
       "    </tr>\n",
       "    <tr>\n",
       "      <th>75%</th>\n",
       "      <td>1.728216e+07</td>\n",
       "      <td>35.000000</td>\n",
       "      <td>18.000000</td>\n",
       "      <td>20.437500</td>\n",
       "      <td>74.500000</td>\n",
       "      <td>46.025000</td>\n",
       "      <td>27.153221</td>\n",
       "      <td>1461.850000</td>\n",
       "      <td>3.300000</td>\n",
       "    </tr>\n",
       "    <tr>\n",
       "      <th>max</th>\n",
       "      <td>8.301921e+07</td>\n",
       "      <td>43.200000</td>\n",
       "      <td>38.100000</td>\n",
       "      <td>30.850000</td>\n",
       "      <td>83.600000</td>\n",
       "      <td>52.500000</td>\n",
       "      <td>45.060331</td>\n",
       "      <td>3200.000000</td>\n",
       "      <td>16.400000</td>\n",
       "    </tr>\n",
       "  </tbody>\n",
       "</table>\n",
       "</div>"
      ],
      "text/plain": [
       "         population  happiness  bad_conditions    culture  health_estimate  \\\n",
       "count  3.300000e+01  33.000000       33.000000  32.000000        33.000000   \n",
       "mean   1.868718e+07  25.690909       15.118182  15.846875        67.596970   \n",
       "std    2.505448e+07  10.182472        7.310030   7.159469         9.260551   \n",
       "min    3.569910e+05   7.500000        4.600000   4.400000        44.100000   \n",
       "25%    4.076246e+06  18.000000       10.400000   9.245000        61.600000   \n",
       "50%    8.542323e+06  24.600000       13.400000  16.010000        68.700000   \n",
       "75%    1.728216e+07  35.000000       18.000000  20.437500        74.500000   \n",
       "max    8.301921e+07  43.200000       38.100000  30.850000        83.600000   \n",
       "\n",
       "         commute  education_underachievements  minimum_wage  \\\n",
       "count  28.000000                    33.000000     33.000000   \n",
       "mean   40.378571                    23.497954    956.064242   \n",
       "std     7.763846                     8.852588    804.847817   \n",
       "min    22.400000                    10.146950      0.000000   \n",
       "25%    35.375000                    17.749614    360.000000   \n",
       "50%    41.250000                    21.459401    720.460000   \n",
       "75%    46.025000                    27.153221   1461.850000   \n",
       "max    52.500000                    45.060331   3200.000000   \n",
       "\n",
       "       unmet_medical_needs  \n",
       "count            33.000000  \n",
       "mean              2.742424  \n",
       "std               3.190320  \n",
       "min               0.100000  \n",
       "25%               0.800000  \n",
       "50%               1.900000  \n",
       "75%               3.300000  \n",
       "max              16.400000  "
      ]
     },
     "execution_count": 15,
     "metadata": {},
     "output_type": "execute_result"
    }
   ],
   "source": [
    "df.describe()"
   ]
  },
  {
   "cell_type": "markdown",
   "metadata": {},
   "source": [
    "Kraje, dla których dokonywana będzie analiza:"
   ]
  },
  {
   "cell_type": "code",
   "execution_count": 6,
   "metadata": {},
   "outputs": [
    {
     "data": {
      "text/plain": [
       "0            Austria\n",
       "1            Belgium\n",
       "2           Bulgaria\n",
       "3            Croatia\n",
       "4             Cyprus\n",
       "5            Czechia\n",
       "6            Denmark\n",
       "7            Estonia\n",
       "8            Finland\n",
       "9             France\n",
       "10           Germany\n",
       "11            Greece\n",
       "12           Hungary\n",
       "13           Iceland\n",
       "14           Ireland\n",
       "15             Italy\n",
       "16            Latvia\n",
       "17         Lithuania\n",
       "18        Luxembourg\n",
       "19             Malta\n",
       "20       Netherlands\n",
       "21            Norway\n",
       "22            Poland\n",
       "23          Portugal\n",
       "24           Romania\n",
       "25            Serbia\n",
       "26          Slovakia\n",
       "27          Slovenia\n",
       "28             Spain\n",
       "29            Sweden\n",
       "30       Switzerland\n",
       "31            Turkey\n",
       "32    United Kingdom\n",
       "Name: country, dtype: object"
      ]
     },
     "execution_count": 6,
     "metadata": {},
     "output_type": "execute_result"
    }
   ],
   "source": [
    "df['country']"
   ]
  },
  {
   "cell_type": "markdown",
   "metadata": {},
   "source": [
    "## Tablica korelacji poszczególnych cech:"
   ]
  },
  {
   "cell_type": "code",
   "execution_count": 13,
   "metadata": {},
   "outputs": [
    {
     "data": {
      "text/plain": [
       "<matplotlib.axes._subplots.AxesSubplot at 0x165c7397b70>"
      ]
     },
     "execution_count": 13,
     "metadata": {},
     "output_type": "execute_result"
    },
    {
     "data": {
      "image/png": "[encoded data removed]",
      "text/plain": [
       "<Figure size 800x800 with 2 Axes>"
      ]
     },
     "metadata": {
      "needs_background": "light"
     },
     "output_type": "display_data"
    }
   ],
   "source": [
    "plt.figure(figsize=(10,10),dpi = 80)\n",
    "sns.heatmap(df.corr(),annot = df.corr())"
   ]
  },
  {
   "cell_type": "markdown",
   "metadata": {},
   "source": [
    "Z powyższej tablicy korelacji wyciągnąć można następujące wnioski:\n",
    "<br> - poziom deklarowanego szczęścia jest silnie ujemnie skorelowany ze złymi warunkami mieszkalnymi (bad_conditions)\n",
    "<br> - poziom deklarowanego szczęścia jest silnie dodatnio skorelowany z aktywnością kulturalną (culture)\n",
    "<br> - poziom deklarowanego szczęścia jest silnie dodatnio skorelowany z dobrym stanem zdrowia (health_estimate)\n",
    "<br> - poziom deklarowanego szczęścia jest dość mocno dodatnio skorelowany z czasem poświęconym na dojazdy (commute)\n",
    "<br> - poziom deklarowanego szczęścia jest silnie ujemnie skorelowany z brakami w wykształceniu (education_underachievements)\n",
    "<br> - poziom deklarowanego szczęścia jest silnie dodatnio skorelowany z wysokością płacy minimalnej (minimum_wage)\n",
    "<br><br> Ponadto, poziom deklarowanego szczęścia nie jest skorelowany z populacją oraz jest słabo ujemnie skorelowany z częstością braku satysfakcjonującej opieki zdrowotnej."
   ]
  }
 ],
 "metadata": {
  "kernelspec": {
   "display_name": "Python 3",
   "language": "python",
   "name": "python3"
  },
  "language_info": {
   "codemirror_mode": {
    "name": "ipython",
    "version": 3
   },
   "file_extension": ".py",
   "mimetype": "text/x-python",
   "name": "python",
   "nbconvert_exporter": "python",
   "pygments_lexer": "ipython3",
   "version": "3.7.3"
  }
 },
 "nbformat": 4,
 "nbformat_minor": 2
}
